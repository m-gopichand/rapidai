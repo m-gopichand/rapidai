{
 "cells": [
  {
   "cell_type": "code",
   "execution_count": null,
   "metadata": {},
   "outputs": [],
   "source": [
    "#|default_exp conv"
   ]
  },
  {
   "cell_type": "markdown",
   "metadata": {},
   "source": [
    "# Convolutions"
   ]
  },
  {
   "cell_type": "code",
   "execution_count": null,
   "metadata": {},
   "outputs": [],
   "source": [
    "#|export\n",
    "import torch\n",
    "from torch import nn\n",
    "\n",
    "from torch.utils.data import default_collate\n",
    "from typing import Mapping\n",
    "\n",
    "from rapidai.training import *\n",
    "from rapidai.datasets import *"
   ]
  },
  {
   "cell_type": "code",
   "execution_count": null,
   "metadata": {},
   "outputs": [],
   "source": [
    "import pickle,gzip,math,os,time,shutil,torch,matplotlib as mpl, numpy as np\n",
    "import pandas as pd,matplotlib.pyplot as plt\n",
    "from pathlib import Path\n",
    "from torch import tensor\n",
    "\n",
    "from torch.utils.data import DataLoader\n",
    "from typing import Mapping"
   ]
  },
  {
   "cell_type": "code",
   "execution_count": null,
   "metadata": {},
   "outputs": [],
   "source": [
    "mpl.rcParams['image.cmap'] = 'gray'"
   ]
  },
  {
   "cell_type": "code",
   "execution_count": null,
   "metadata": {},
   "outputs": [],
   "source": [
    "path_data = Path('data')\n",
    "path_gz = path_data/'mnist.pkl.gz'\n",
    "with gzip.open(path_gz, 'rb') as f: ((x_train, y_train), (x_valid, y_valid), _) = pickle.load(f, encoding='latin-1')\n",
    "x_train, y_train, x_valid, y_valid = map(tensor, [x_train, y_train, x_valid, y_valid])"
   ]
  },
  {
   "cell_type": "markdown",
   "metadata": {},
   "source": [
    "In the context of an image, a feature is a visually distinctive attribute. For example, the number 7 is characterized by a horizontal edge near the top of the digit, and a top-right to bottom-left diagonal edge underneath that.\n",
    "\n",
    "It turns out that finding the edges in an image is a very common task in computer vision, and is surprisingly straightforward. To do it, we use a *convolution*. A convolution requires nothing more than multiplication, and addition."
   ]
  },
  {
   "cell_type": "markdown",
   "metadata": {},
   "source": [
    "### Understanding the Convolution Equations"
   ]
  },
  {
   "cell_type": "markdown",
   "metadata": {},
   "source": [
    "To explain the math behind convolutions, fast.ai student Matt Kleinsmith came up with the very clever idea of showing [CNNs from different viewpoints](https://medium.com/impactai/cnns-from-different-viewpoints-fab7f52d159c).\n",
    "\n",
    "Here's the input:"
   ]
  },
  {
   "cell_type": "markdown",
   "metadata": {},
   "source": [
    "<img alt=\"The image\" width=\"75\" src=\"images/att_00032.png\">"
   ]
  },
  {
   "cell_type": "markdown",
   "metadata": {},
   "source": [
    "Here's our kernel:"
   ]
  },
  {
   "cell_type": "markdown",
   "metadata": {},
   "source": [
    "<img alt=\"The kernel\" width=\"55\" src=\"images/att_00033.png\">"
   ]
  },
  {
   "cell_type": "markdown",
   "metadata": {},
   "source": [
    "Since the filter fits in the image four times, we have four results:"
   ]
  },
  {
   "cell_type": "markdown",
   "metadata": {},
   "source": [
    "<img alt=\"The activations\" width=\"52\" src=\"images/att_00034.png\">"
   ]
  },
  {
   "cell_type": "markdown",
   "metadata": {},
   "source": [
    "<img alt=\"Applying the kernel\" width=\"366\" caption=\"Applying the kernel\" id=\"apply_kernel\" src=\"images/att_00035.png\">"
   ]
  },
  {
   "cell_type": "markdown",
   "metadata": {},
   "source": [
    "<img alt=\"The equation\" width=\"436\" caption=\"The equation\" id=\"eq_view\" src=\"images/att_00036.png\">"
   ]
  },
  {
   "cell_type": "code",
   "execution_count": null,
   "metadata": {},
   "outputs": [],
   "source": [
    "x_imgs = x_train.view(-1,28,28)\n",
    "xv_imgs = x_valid.view(-1,28,28)"
   ]
  },
  {
   "cell_type": "code",
   "execution_count": null,
   "metadata": {},
   "outputs": [],
   "source": [
    "mpl.rcParams['figure.dpi'] = 30"
   ]
  },
  {
   "cell_type": "code",
   "execution_count": null,
   "metadata": {},
   "outputs": [
    {
     "data": {
      "image/png": "[encoded data removed]",
      "text/plain": [
       "<Figure size 192x144 with 1 Axes>"
      ]
     },
     "metadata": {},
     "output_type": "display_data"
    }
   ],
   "source": [
    "im3 = x_imgs[7]\n",
    "show_image(im3);"
   ]
  },
  {
   "cell_type": "code",
   "execution_count": null,
   "metadata": {},
   "outputs": [],
   "source": [
    "top_edge = tensor([[-1,-1,-1],\n",
    "                   [ 0, 0, 0],\n",
    "                   [ 1, 1, 1]]).float()"
   ]
  },
  {
   "cell_type": "markdown",
   "metadata": {},
   "source": [
    "We're going to call this our kernel (because that's what fancy computer vision researchers call these)."
   ]
  },
  {
   "cell_type": "code",
   "execution_count": null,
   "metadata": {},
   "outputs": [
    {
     "data": {
      "image/png": "[encoded data removed]",
      "text/plain": [
       "<Figure size 192x144 with 1 Axes>"
      ]
     },
     "metadata": {},
     "output_type": "display_data"
    }
   ],
   "source": [
    "show_image(top_edge, noframe=False);"
   ]
  },
  {
   "cell_type": "markdown",
   "metadata": {},
   "source": [
    "The filter will take any window of size 3×3 in our images, and if we name the pixel values like this:\n",
    "\n",
    "$$\\begin{matrix} a1 & a2 & a3 \\\\ a4 & a5 & a6 \\\\ a7 & a8 & a9 \\end{matrix}$$\n",
    "\n",
    "it will return $-a1-a2-a3+a7+a8+a9$."
   ]
  },
  {
   "cell_type": "code",
   "execution_count": null,
   "metadata": {},
   "outputs": [
    {
     "data": {
      "text/html": [
       "<style type=\"text/css\">\n",
       "#T_f91ab_row0_col0, #T_f91ab_row0_col1, #T_f91ab_row0_col2, #T_f91ab_row0_col3, #T_f91ab_row0_col4, #T_f91ab_row0_col5, #T_f91ab_row0_col6, #T_f91ab_row0_col7, #T_f91ab_row0_col8, #T_f91ab_row0_col9, #T_f91ab_row0_col10, #T_f91ab_row0_col11, #T_f91ab_row0_col12, #T_f91ab_row0_col13, #T_f91ab_row0_col14, #T_f91ab_row0_col15, #T_f91ab_row0_col16, #T_f91ab_row0_col17, #T_f91ab_row0_col18, #T_f91ab_row0_col19, #T_f91ab_row0_col20, #T_f91ab_row0_col21, #T_f91ab_row0_col22, #T_f91ab_row1_col0, #T_f91ab_row1_col1, #T_f91ab_row1_col2, #T_f91ab_row1_col3, #T_f91ab_row1_col4, #T_f91ab_row1_col5, #T_f91ab_row1_col6, #T_f91ab_row1_col7, #T_f91ab_row1_col8, #T_f91ab_row1_col9, #T_f91ab_row1_col10, #T_f91ab_row1_col11, #T_f91ab_row1_col12, #T_f91ab_row1_col13, #T_f91ab_row1_col14, #T_f91ab_row1_col15, #T_f91ab_row1_col16, #T_f91ab_row1_col17, #T_f91ab_row1_col18, #T_f91ab_row1_col19, #T_f91ab_row1_col20, #T_f91ab_row1_col21, #T_f91ab_row1_col22, #T_f91ab_row2_col0, #T_f91ab_row2_col1, #T_f91ab_row2_col2, #T_f91ab_row2_col3, #T_f91ab_row2_col4, #T_f91ab_row2_col5, #T_f91ab_row2_col6, #T_f91ab_row2_col7, #T_f91ab_row2_col8, #T_f91ab_row2_col9, #T_f91ab_row2_col10, #T_f91ab_row2_col11, #T_f91ab_row2_col12, #T_f91ab_row2_col13, #T_f91ab_row2_col14, #T_f91ab_row2_col15, #T_f91ab_row2_col16, #T_f91ab_row2_col17, #T_f91ab_row2_col18, #T_f91ab_row2_col19, #T_f91ab_row2_col20, #T_f91ab_row2_col21, #T_f91ab_row2_col22, #T_f91ab_row3_col0, #T_f91ab_row3_col1, #T_f91ab_row3_col2, #T_f91ab_row3_col3, #T_f91ab_row3_col4, #T_f91ab_row3_col5, #T_f91ab_row3_col6, #T_f91ab_row3_col7, #T_f91ab_row3_col8, #T_f91ab_row3_col9, #T_f91ab_row3_col10, #T_f91ab_row3_col11, #T_f91ab_row3_col12, #T_f91ab_row3_col13, #T_f91ab_row3_col14, #T_f91ab_row3_col15, #T_f91ab_row3_col16, #T_f91ab_row3_col17, #T_f91ab_row3_col18, #T_f91ab_row3_col19, #T_f91ab_row3_col20, #T_f91ab_row3_col21, #T_f91ab_row3_col22, #T_f91ab_row4_col0, #T_f91ab_row4_col1, #T_f91ab_row4_col2, #T_f91ab_row4_col3, #T_f91ab_row4_col4, #T_f91ab_row4_col5, #T_f91ab_row4_col6, #T_f91ab_row4_col7, #T_f91ab_row4_col8, #T_f91ab_row4_col9, #T_f91ab_row4_col10, #T_f91ab_row4_col11, #T_f91ab_row4_col12, #T_f91ab_row4_col13, #T_f91ab_row4_col14, #T_f91ab_row4_col15, #T_f91ab_row4_col16, #T_f91ab_row4_col17, #T_f91ab_row4_col18, #T_f91ab_row4_col19, #T_f91ab_row4_col20, #T_f91ab_row4_col21, #T_f91ab_row4_col22, #T_f91ab_row5_col0, #T_f91ab_row5_col1, #T_f91ab_row5_col2, #T_f91ab_row5_col3, #T_f91ab_row5_col4, #T_f91ab_row5_col5, #T_f91ab_row5_col6, #T_f91ab_row5_col7, #T_f91ab_row5_col8, #T_f91ab_row5_col9, #T_f91ab_row5_col10, #T_f91ab_row5_col22, #T_f91ab_row6_col0, #T_f91ab_row6_col1, #T_f91ab_row6_col2, #T_f91ab_row6_col3, #T_f91ab_row6_col4, #T_f91ab_row6_col5, #T_f91ab_row6_col6, #T_f91ab_row6_col7, #T_f91ab_row6_col8, #T_f91ab_row7_col0, #T_f91ab_row7_col1, #T_f91ab_row7_col2, #T_f91ab_row7_col3, #T_f91ab_row7_col4, #T_f91ab_row7_col5, #T_f91ab_row7_col6, #T_f91ab_row7_col7, #T_f91ab_row7_col8, #T_f91ab_row8_col0, #T_f91ab_row8_col1, #T_f91ab_row8_col2, #T_f91ab_row8_col3, #T_f91ab_row8_col4, #T_f91ab_row8_col5, #T_f91ab_row8_col6, #T_f91ab_row8_col7, #T_f91ab_row8_col8, #T_f91ab_row9_col0, #T_f91ab_row9_col1, #T_f91ab_row9_col2, #T_f91ab_row9_col3, #T_f91ab_row9_col4, #T_f91ab_row9_col5, #T_f91ab_row9_col6, #T_f91ab_row9_col7, #T_f91ab_row9_col8, #T_f91ab_row9_col13, #T_f91ab_row9_col14, #T_f91ab_row9_col15, #T_f91ab_row9_col16, #T_f91ab_row10_col0, #T_f91ab_row10_col1, #T_f91ab_row10_col2, #T_f91ab_row10_col3, #T_f91ab_row10_col4, #T_f91ab_row10_col5, #T_f91ab_row10_col6, #T_f91ab_row10_col7, #T_f91ab_row10_col8, #T_f91ab_row10_col9, #T_f91ab_row10_col10, #T_f91ab_row10_col11, #T_f91ab_row10_col12, #T_f91ab_row10_col13, #T_f91ab_row10_col14, #T_f91ab_row10_col15, #T_f91ab_row10_col16, #T_f91ab_row10_col22, #T_f91ab_row11_col0, #T_f91ab_row11_col1, #T_f91ab_row11_col2, #T_f91ab_row11_col3, #T_f91ab_row11_col4, #T_f91ab_row11_col5, #T_f91ab_row11_col6, #T_f91ab_row11_col7, #T_f91ab_row11_col8, #T_f91ab_row11_col9, #T_f91ab_row11_col10, #T_f91ab_row11_col11, #T_f91ab_row11_col12, #T_f91ab_row11_col13, #T_f91ab_row11_col14, #T_f91ab_row11_col15, #T_f91ab_row11_col22, #T_f91ab_row12_col0, #T_f91ab_row12_col1, #T_f91ab_row12_col2, #T_f91ab_row12_col3, #T_f91ab_row12_col4, #T_f91ab_row12_col5, #T_f91ab_row12_col6, #T_f91ab_row12_col7, #T_f91ab_row12_col8, #T_f91ab_row12_col9, #T_f91ab_row12_col10, #T_f91ab_row12_col11, #T_f91ab_row12_col12, #T_f91ab_row12_col13, #T_f91ab_row12_col22 {\n",
       "  font-size: 7pt;\n",
       "  background-color: #ffffff;\n",
       "  color: #000000;\n",
       "}\n",
       "#T_f91ab_row5_col11 {\n",
       "  font-size: 7pt;\n",
       "  background-color: #ececec;\n",
       "  color: #000000;\n",
       "}\n",
       "#T_f91ab_row5_col12 {\n",
       "  font-size: 7pt;\n",
       "  background-color: #e8e8e8;\n",
       "  color: #000000;\n",
       "}\n",
       "#T_f91ab_row5_col13 {\n",
       "  font-size: 7pt;\n",
       "  background-color: #b0b0b0;\n",
       "  color: #000000;\n",
       "}\n",
       "#T_f91ab_row5_col14, #T_f91ab_row5_col15, #T_f91ab_row5_col16, #T_f91ab_row5_col17, #T_f91ab_row5_col18, #T_f91ab_row5_col19, #T_f91ab_row6_col13, #T_f91ab_row6_col20, #T_f91ab_row7_col9, #T_f91ab_row7_col10, #T_f91ab_row7_col11, #T_f91ab_row7_col12, #T_f91ab_row7_col13, #T_f91ab_row7_col20, #T_f91ab_row7_col21, #T_f91ab_row7_col22, #T_f91ab_row8_col10, #T_f91ab_row8_col11, #T_f91ab_row8_col20, #T_f91ab_row8_col21, #T_f91ab_row8_col22, #T_f91ab_row9_col20, #T_f91ab_row10_col20, #T_f91ab_row11_col20 {\n",
       "  font-size: 7pt;\n",
       "  background-color: #000000;\n",
       "  color: #f1f1f1;\n",
       "}\n",
       "#T_f91ab_row5_col20 {\n",
       "  font-size: 7pt;\n",
       "  background-color: #626262;\n",
       "  color: #f1f1f1;\n",
       "}\n",
       "#T_f91ab_row5_col21 {\n",
       "  font-size: 7pt;\n",
       "  background-color: #fcfcfc;\n",
       "  color: #000000;\n",
       "}\n",
       "#T_f91ab_row6_col9 {\n",
       "  font-size: 7pt;\n",
       "  background-color: #dbdbdb;\n",
       "  color: #000000;\n",
       "}\n",
       "#T_f91ab_row6_col10 {\n",
       "  font-size: 7pt;\n",
       "  background-color: #878787;\n",
       "  color: #f1f1f1;\n",
       "}\n",
       "#T_f91ab_row6_col11 {\n",
       "  font-size: 7pt;\n",
       "  background-color: #212121;\n",
       "  color: #f1f1f1;\n",
       "}\n",
       "#T_f91ab_row6_col12 {\n",
       "  font-size: 7pt;\n",
       "  background-color: #1e1e1e;\n",
       "  color: #f1f1f1;\n",
       "}\n",
       "#T_f91ab_row6_col14, #T_f91ab_row7_col14 {\n",
       "  font-size: 7pt;\n",
       "  background-color: #020202;\n",
       "  color: #f1f1f1;\n",
       "}\n",
       "#T_f91ab_row6_col15, #T_f91ab_row6_col16, #T_f91ab_row6_col17, #T_f91ab_row6_col18, #T_f91ab_row6_col19, #T_f91ab_row7_col15, #T_f91ab_row7_col16, #T_f91ab_row7_col17, #T_f91ab_row7_col18, #T_f91ab_row7_col19, #T_f91ab_row8_col18, #T_f91ab_row8_col19, #T_f91ab_row9_col19, #T_f91ab_row10_col19, #T_f91ab_row11_col18, #T_f91ab_row11_col19, #T_f91ab_row12_col17, #T_f91ab_row12_col18, #T_f91ab_row12_col19 {\n",
       "  font-size: 7pt;\n",
       "  background-color: #010101;\n",
       "  color: #f1f1f1;\n",
       "}\n",
       "#T_f91ab_row6_col21 {\n",
       "  font-size: 7pt;\n",
       "  background-color: #727272;\n",
       "  color: #f1f1f1;\n",
       "}\n",
       "#T_f91ab_row6_col22 {\n",
       "  font-size: 7pt;\n",
       "  background-color: #dcdcdc;\n",
       "  color: #000000;\n",
       "}\n",
       "#T_f91ab_row8_col9 {\n",
       "  font-size: 7pt;\n",
       "  background-color: #777777;\n",
       "  color: #f1f1f1;\n",
       "}\n",
       "#T_f91ab_row8_col12 {\n",
       "  font-size: 7pt;\n",
       "  background-color: #1a1a1a;\n",
       "  color: #f1f1f1;\n",
       "}\n",
       "#T_f91ab_row8_col13 {\n",
       "  font-size: 7pt;\n",
       "  background-color: #8f8f8f;\n",
       "  color: #f1f1f1;\n",
       "}\n",
       "#T_f91ab_row8_col14, #T_f91ab_row8_col15, #T_f91ab_row8_col16 {\n",
       "  font-size: 7pt;\n",
       "  background-color: #909090;\n",
       "  color: #f1f1f1;\n",
       "}\n",
       "#T_f91ab_row8_col17, #T_f91ab_row11_col17 {\n",
       "  font-size: 7pt;\n",
       "  background-color: #525252;\n",
       "  color: #f1f1f1;\n",
       "}\n",
       "#T_f91ab_row9_col9 {\n",
       "  font-size: 7pt;\n",
       "  background-color: #fdfdfd;\n",
       "  color: #000000;\n",
       "}\n",
       "#T_f91ab_row9_col10, #T_f91ab_row9_col11, #T_f91ab_row9_col22 {\n",
       "  font-size: 7pt;\n",
       "  background-color: #f1f1f1;\n",
       "  color: #000000;\n",
       "}\n",
       "#T_f91ab_row9_col12 {\n",
       "  font-size: 7pt;\n",
       "  background-color: #f4f4f4;\n",
       "  color: #000000;\n",
       "}\n",
       "#T_f91ab_row9_col17, #T_f91ab_row11_col21 {\n",
       "  font-size: 7pt;\n",
       "  background-color: #f8f8f8;\n",
       "  color: #000000;\n",
       "}\n",
       "#T_f91ab_row9_col18 {\n",
       "  font-size: 7pt;\n",
       "  background-color: #1f1f1f;\n",
       "  color: #f1f1f1;\n",
       "}\n",
       "#T_f91ab_row9_col21 {\n",
       "  font-size: 7pt;\n",
       "  background-color: #646464;\n",
       "  color: #f1f1f1;\n",
       "}\n",
       "#T_f91ab_row10_col17 {\n",
       "  font-size: 7pt;\n",
       "  background-color: #c5c5c5;\n",
       "  color: #000000;\n",
       "}\n",
       "#T_f91ab_row10_col18 {\n",
       "  font-size: 7pt;\n",
       "  background-color: #0c0c0c;\n",
       "  color: #f1f1f1;\n",
       "}\n",
       "#T_f91ab_row10_col21 {\n",
       "  font-size: 7pt;\n",
       "  background-color: #828282;\n",
       "  color: #f1f1f1;\n",
       "}\n",
       "#T_f91ab_row11_col16 {\n",
       "  font-size: 7pt;\n",
       "  background-color: #c3c3c3;\n",
       "  color: #000000;\n",
       "}\n",
       "#T_f91ab_row12_col14 {\n",
       "  font-size: 7pt;\n",
       "  background-color: #c1c1c1;\n",
       "  color: #000000;\n",
       "}\n",
       "#T_f91ab_row12_col15 {\n",
       "  font-size: 7pt;\n",
       "  background-color: #323232;\n",
       "  color: #f1f1f1;\n",
       "}\n",
       "#T_f91ab_row12_col16 {\n",
       "  font-size: 7pt;\n",
       "  background-color: #070707;\n",
       "  color: #f1f1f1;\n",
       "}\n",
       "#T_f91ab_row12_col20 {\n",
       "  font-size: 7pt;\n",
       "  background-color: #3c3c3c;\n",
       "  color: #f1f1f1;\n",
       "}\n",
       "#T_f91ab_row12_col21 {\n",
       "  font-size: 7pt;\n",
       "  background-color: #fbfbfb;\n",
       "  color: #000000;\n",
       "}\n",
       "</style>\n",
       "<table id=\"T_f91ab\">\n",
       "  <thead>\n",
       "    <tr>\n",
       "      <th class=\"blank level0\" >&nbsp;</th>\n",
       "      <th id=\"T_f91ab_level0_col0\" class=\"col_heading level0 col0\" >0</th>\n",
       "      <th id=\"T_f91ab_level0_col1\" class=\"col_heading level0 col1\" >1</th>\n",
       "      <th id=\"T_f91ab_level0_col2\" class=\"col_heading level0 col2\" >2</th>\n",
       "      <th id=\"T_f91ab_level0_col3\" class=\"col_heading level0 col3\" >3</th>\n",
       "      <th id=\"T_f91ab_level0_col4\" class=\"col_heading level0 col4\" >4</th>\n",
       "      <th id=\"T_f91ab_level0_col5\" class=\"col_heading level0 col5\" >5</th>\n",
       "      <th id=\"T_f91ab_level0_col6\" class=\"col_heading level0 col6\" >6</th>\n",
       "      <th id=\"T_f91ab_level0_col7\" class=\"col_heading level0 col7\" >7</th>\n",
       "      <th id=\"T_f91ab_level0_col8\" class=\"col_heading level0 col8\" >8</th>\n",
       "      <th id=\"T_f91ab_level0_col9\" class=\"col_heading level0 col9\" >9</th>\n",
       "      <th id=\"T_f91ab_level0_col10\" class=\"col_heading level0 col10\" >10</th>\n",
       "      <th id=\"T_f91ab_level0_col11\" class=\"col_heading level0 col11\" >11</th>\n",
       "      <th id=\"T_f91ab_level0_col12\" class=\"col_heading level0 col12\" >12</th>\n",
       "      <th id=\"T_f91ab_level0_col13\" class=\"col_heading level0 col13\" >13</th>\n",
       "      <th id=\"T_f91ab_level0_col14\" class=\"col_heading level0 col14\" >14</th>\n",
       "      <th id=\"T_f91ab_level0_col15\" class=\"col_heading level0 col15\" >15</th>\n",
       "      <th id=\"T_f91ab_level0_col16\" class=\"col_heading level0 col16\" >16</th>\n",
       "      <th id=\"T_f91ab_level0_col17\" class=\"col_heading level0 col17\" >17</th>\n",
       "      <th id=\"T_f91ab_level0_col18\" class=\"col_heading level0 col18\" >18</th>\n",
       "      <th id=\"T_f91ab_level0_col19\" class=\"col_heading level0 col19\" >19</th>\n",
       "      <th id=\"T_f91ab_level0_col20\" class=\"col_heading level0 col20\" >20</th>\n",
       "      <th id=\"T_f91ab_level0_col21\" class=\"col_heading level0 col21\" >21</th>\n",
       "      <th id=\"T_f91ab_level0_col22\" class=\"col_heading level0 col22\" >22</th>\n",
       "    </tr>\n",
       "  </thead>\n",
       "  <tbody>\n",
       "    <tr>\n",
       "      <th id=\"T_f91ab_level0_row0\" class=\"row_heading level0 row0\" >0</th>\n",
       "      <td id=\"T_f91ab_row0_col0\" class=\"data row0 col0\" >0.00</td>\n",
       "      <td id=\"T_f91ab_row0_col1\" class=\"data row0 col1\" >0.00</td>\n",
       "      <td id=\"T_f91ab_row0_col2\" class=\"data row0 col2\" >0.00</td>\n",
       "      <td id=\"T_f91ab_row0_col3\" class=\"data row0 col3\" >0.00</td>\n",
       "      <td id=\"T_f91ab_row0_col4\" class=\"data row0 col4\" >0.00</td>\n",
       "      <td id=\"T_f91ab_row0_col5\" class=\"data row0 col5\" >0.00</td>\n",
       "      <td id=\"T_f91ab_row0_col6\" class=\"data row0 col6\" >0.00</td>\n",
       "      <td id=\"T_f91ab_row0_col7\" class=\"data row0 col7\" >0.00</td>\n",
       "      <td id=\"T_f91ab_row0_col8\" class=\"data row0 col8\" >0.00</td>\n",
       "      <td id=\"T_f91ab_row0_col9\" class=\"data row0 col9\" >0.00</td>\n",
       "      <td id=\"T_f91ab_row0_col10\" class=\"data row0 col10\" >0.00</td>\n",
       "      <td id=\"T_f91ab_row0_col11\" class=\"data row0 col11\" >0.00</td>\n",
       "      <td id=\"T_f91ab_row0_col12\" class=\"data row0 col12\" >0.00</td>\n",
       "      <td id=\"T_f91ab_row0_col13\" class=\"data row0 col13\" >0.00</td>\n",
       "      <td id=\"T_f91ab_row0_col14\" class=\"data row0 col14\" >0.00</td>\n",
       "      <td id=\"T_f91ab_row0_col15\" class=\"data row0 col15\" >0.00</td>\n",
       "      <td id=\"T_f91ab_row0_col16\" class=\"data row0 col16\" >0.00</td>\n",
       "      <td id=\"T_f91ab_row0_col17\" class=\"data row0 col17\" >0.00</td>\n",
       "      <td id=\"T_f91ab_row0_col18\" class=\"data row0 col18\" >0.00</td>\n",
       "      <td id=\"T_f91ab_row0_col19\" class=\"data row0 col19\" >0.00</td>\n",
       "      <td id=\"T_f91ab_row0_col20\" class=\"data row0 col20\" >0.00</td>\n",
       "      <td id=\"T_f91ab_row0_col21\" class=\"data row0 col21\" >0.00</td>\n",
       "      <td id=\"T_f91ab_row0_col22\" class=\"data row0 col22\" >0.00</td>\n",
       "    </tr>\n",
       "    <tr>\n",
       "      <th id=\"T_f91ab_level0_row1\" class=\"row_heading level0 row1\" >1</th>\n",
       "      <td id=\"T_f91ab_row1_col0\" class=\"data row1 col0\" >0.00</td>\n",
       "      <td id=\"T_f91ab_row1_col1\" class=\"data row1 col1\" >0.00</td>\n",
       "      <td id=\"T_f91ab_row1_col2\" class=\"data row1 col2\" >0.00</td>\n",
       "      <td id=\"T_f91ab_row1_col3\" class=\"data row1 col3\" >0.00</td>\n",
       "      <td id=\"T_f91ab_row1_col4\" class=\"data row1 col4\" >0.00</td>\n",
       "      <td id=\"T_f91ab_row1_col5\" class=\"data row1 col5\" >0.00</td>\n",
       "      <td id=\"T_f91ab_row1_col6\" class=\"data row1 col6\" >0.00</td>\n",
       "      <td id=\"T_f91ab_row1_col7\" class=\"data row1 col7\" >0.00</td>\n",
       "      <td id=\"T_f91ab_row1_col8\" class=\"data row1 col8\" >0.00</td>\n",
       "      <td id=\"T_f91ab_row1_col9\" class=\"data row1 col9\" >0.00</td>\n",
       "      <td id=\"T_f91ab_row1_col10\" class=\"data row1 col10\" >0.00</td>\n",
       "      <td id=\"T_f91ab_row1_col11\" class=\"data row1 col11\" >0.00</td>\n",
       "      <td id=\"T_f91ab_row1_col12\" class=\"data row1 col12\" >0.00</td>\n",
       "      <td id=\"T_f91ab_row1_col13\" class=\"data row1 col13\" >0.00</td>\n",
       "      <td id=\"T_f91ab_row1_col14\" class=\"data row1 col14\" >0.00</td>\n",
       "      <td id=\"T_f91ab_row1_col15\" class=\"data row1 col15\" >0.00</td>\n",
       "      <td id=\"T_f91ab_row1_col16\" class=\"data row1 col16\" >0.00</td>\n",
       "      <td id=\"T_f91ab_row1_col17\" class=\"data row1 col17\" >0.00</td>\n",
       "      <td id=\"T_f91ab_row1_col18\" class=\"data row1 col18\" >0.00</td>\n",
       "      <td id=\"T_f91ab_row1_col19\" class=\"data row1 col19\" >0.00</td>\n",
       "      <td id=\"T_f91ab_row1_col20\" class=\"data row1 col20\" >0.00</td>\n",
       "      <td id=\"T_f91ab_row1_col21\" class=\"data row1 col21\" >0.00</td>\n",
       "      <td id=\"T_f91ab_row1_col22\" class=\"data row1 col22\" >0.00</td>\n",
       "    </tr>\n",
       "    <tr>\n",
       "      <th id=\"T_f91ab_level0_row2\" class=\"row_heading level0 row2\" >2</th>\n",
       "      <td id=\"T_f91ab_row2_col0\" class=\"data row2 col0\" >0.00</td>\n",
       "      <td id=\"T_f91ab_row2_col1\" class=\"data row2 col1\" >0.00</td>\n",
       "      <td id=\"T_f91ab_row2_col2\" class=\"data row2 col2\" >0.00</td>\n",
       "      <td id=\"T_f91ab_row2_col3\" class=\"data row2 col3\" >0.00</td>\n",
       "      <td id=\"T_f91ab_row2_col4\" class=\"data row2 col4\" >0.00</td>\n",
       "      <td id=\"T_f91ab_row2_col5\" class=\"data row2 col5\" >0.00</td>\n",
       "      <td id=\"T_f91ab_row2_col6\" class=\"data row2 col6\" >0.00</td>\n",
       "      <td id=\"T_f91ab_row2_col7\" class=\"data row2 col7\" >0.00</td>\n",
       "      <td id=\"T_f91ab_row2_col8\" class=\"data row2 col8\" >0.00</td>\n",
       "      <td id=\"T_f91ab_row2_col9\" class=\"data row2 col9\" >0.00</td>\n",
       "      <td id=\"T_f91ab_row2_col10\" class=\"data row2 col10\" >0.00</td>\n",
       "      <td id=\"T_f91ab_row2_col11\" class=\"data row2 col11\" >0.00</td>\n",
       "      <td id=\"T_f91ab_row2_col12\" class=\"data row2 col12\" >0.00</td>\n",
       "      <td id=\"T_f91ab_row2_col13\" class=\"data row2 col13\" >0.00</td>\n",
       "      <td id=\"T_f91ab_row2_col14\" class=\"data row2 col14\" >0.00</td>\n",
       "      <td id=\"T_f91ab_row2_col15\" class=\"data row2 col15\" >0.00</td>\n",
       "      <td id=\"T_f91ab_row2_col16\" class=\"data row2 col16\" >0.00</td>\n",
       "      <td id=\"T_f91ab_row2_col17\" class=\"data row2 col17\" >0.00</td>\n",
       "      <td id=\"T_f91ab_row2_col18\" class=\"data row2 col18\" >0.00</td>\n",
       "      <td id=\"T_f91ab_row2_col19\" class=\"data row2 col19\" >0.00</td>\n",
       "      <td id=\"T_f91ab_row2_col20\" class=\"data row2 col20\" >0.00</td>\n",
       "      <td id=\"T_f91ab_row2_col21\" class=\"data row2 col21\" >0.00</td>\n",
       "      <td id=\"T_f91ab_row2_col22\" class=\"data row2 col22\" >0.00</td>\n",
       "    </tr>\n",
       "    <tr>\n",
       "      <th id=\"T_f91ab_level0_row3\" class=\"row_heading level0 row3\" >3</th>\n",
       "      <td id=\"T_f91ab_row3_col0\" class=\"data row3 col0\" >0.00</td>\n",
       "      <td id=\"T_f91ab_row3_col1\" class=\"data row3 col1\" >0.00</td>\n",
       "      <td id=\"T_f91ab_row3_col2\" class=\"data row3 col2\" >0.00</td>\n",
       "      <td id=\"T_f91ab_row3_col3\" class=\"data row3 col3\" >0.00</td>\n",
       "      <td id=\"T_f91ab_row3_col4\" class=\"data row3 col4\" >0.00</td>\n",
       "      <td id=\"T_f91ab_row3_col5\" class=\"data row3 col5\" >0.00</td>\n",
       "      <td id=\"T_f91ab_row3_col6\" class=\"data row3 col6\" >0.00</td>\n",
       "      <td id=\"T_f91ab_row3_col7\" class=\"data row3 col7\" >0.00</td>\n",
       "      <td id=\"T_f91ab_row3_col8\" class=\"data row3 col8\" >0.00</td>\n",
       "      <td id=\"T_f91ab_row3_col9\" class=\"data row3 col9\" >0.00</td>\n",
       "      <td id=\"T_f91ab_row3_col10\" class=\"data row3 col10\" >0.00</td>\n",
       "      <td id=\"T_f91ab_row3_col11\" class=\"data row3 col11\" >0.00</td>\n",
       "      <td id=\"T_f91ab_row3_col12\" class=\"data row3 col12\" >0.00</td>\n",
       "      <td id=\"T_f91ab_row3_col13\" class=\"data row3 col13\" >0.00</td>\n",
       "      <td id=\"T_f91ab_row3_col14\" class=\"data row3 col14\" >0.00</td>\n",
       "      <td id=\"T_f91ab_row3_col15\" class=\"data row3 col15\" >0.00</td>\n",
       "      <td id=\"T_f91ab_row3_col16\" class=\"data row3 col16\" >0.00</td>\n",
       "      <td id=\"T_f91ab_row3_col17\" class=\"data row3 col17\" >0.00</td>\n",
       "      <td id=\"T_f91ab_row3_col18\" class=\"data row3 col18\" >0.00</td>\n",
       "      <td id=\"T_f91ab_row3_col19\" class=\"data row3 col19\" >0.00</td>\n",
       "      <td id=\"T_f91ab_row3_col20\" class=\"data row3 col20\" >0.00</td>\n",
       "      <td id=\"T_f91ab_row3_col21\" class=\"data row3 col21\" >0.00</td>\n",
       "      <td id=\"T_f91ab_row3_col22\" class=\"data row3 col22\" >0.00</td>\n",
       "    </tr>\n",
       "    <tr>\n",
       "      <th id=\"T_f91ab_level0_row4\" class=\"row_heading level0 row4\" >4</th>\n",
       "      <td id=\"T_f91ab_row4_col0\" class=\"data row4 col0\" >0.00</td>\n",
       "      <td id=\"T_f91ab_row4_col1\" class=\"data row4 col1\" >0.00</td>\n",
       "      <td id=\"T_f91ab_row4_col2\" class=\"data row4 col2\" >0.00</td>\n",
       "      <td id=\"T_f91ab_row4_col3\" class=\"data row4 col3\" >0.00</td>\n",
       "      <td id=\"T_f91ab_row4_col4\" class=\"data row4 col4\" >0.00</td>\n",
       "      <td id=\"T_f91ab_row4_col5\" class=\"data row4 col5\" >0.00</td>\n",
       "      <td id=\"T_f91ab_row4_col6\" class=\"data row4 col6\" >0.00</td>\n",
       "      <td id=\"T_f91ab_row4_col7\" class=\"data row4 col7\" >0.00</td>\n",
       "      <td id=\"T_f91ab_row4_col8\" class=\"data row4 col8\" >0.00</td>\n",
       "      <td id=\"T_f91ab_row4_col9\" class=\"data row4 col9\" >0.00</td>\n",
       "      <td id=\"T_f91ab_row4_col10\" class=\"data row4 col10\" >0.00</td>\n",
       "      <td id=\"T_f91ab_row4_col11\" class=\"data row4 col11\" >0.00</td>\n",
       "      <td id=\"T_f91ab_row4_col12\" class=\"data row4 col12\" >0.00</td>\n",
       "      <td id=\"T_f91ab_row4_col13\" class=\"data row4 col13\" >0.00</td>\n",
       "      <td id=\"T_f91ab_row4_col14\" class=\"data row4 col14\" >0.00</td>\n",
       "      <td id=\"T_f91ab_row4_col15\" class=\"data row4 col15\" >0.00</td>\n",
       "      <td id=\"T_f91ab_row4_col16\" class=\"data row4 col16\" >0.00</td>\n",
       "      <td id=\"T_f91ab_row4_col17\" class=\"data row4 col17\" >0.00</td>\n",
       "      <td id=\"T_f91ab_row4_col18\" class=\"data row4 col18\" >0.00</td>\n",
       "      <td id=\"T_f91ab_row4_col19\" class=\"data row4 col19\" >0.00</td>\n",
       "      <td id=\"T_f91ab_row4_col20\" class=\"data row4 col20\" >0.00</td>\n",
       "      <td id=\"T_f91ab_row4_col21\" class=\"data row4 col21\" >0.00</td>\n",
       "      <td id=\"T_f91ab_row4_col22\" class=\"data row4 col22\" >0.00</td>\n",
       "    </tr>\n",
       "    <tr>\n",
       "      <th id=\"T_f91ab_level0_row5\" class=\"row_heading level0 row5\" >5</th>\n",
       "      <td id=\"T_f91ab_row5_col0\" class=\"data row5 col0\" >0.00</td>\n",
       "      <td id=\"T_f91ab_row5_col1\" class=\"data row5 col1\" >0.00</td>\n",
       "      <td id=\"T_f91ab_row5_col2\" class=\"data row5 col2\" >0.00</td>\n",
       "      <td id=\"T_f91ab_row5_col3\" class=\"data row5 col3\" >0.00</td>\n",
       "      <td id=\"T_f91ab_row5_col4\" class=\"data row5 col4\" >0.00</td>\n",
       "      <td id=\"T_f91ab_row5_col5\" class=\"data row5 col5\" >0.00</td>\n",
       "      <td id=\"T_f91ab_row5_col6\" class=\"data row5 col6\" >0.00</td>\n",
       "      <td id=\"T_f91ab_row5_col7\" class=\"data row5 col7\" >0.00</td>\n",
       "      <td id=\"T_f91ab_row5_col8\" class=\"data row5 col8\" >0.00</td>\n",
       "      <td id=\"T_f91ab_row5_col9\" class=\"data row5 col9\" >0.00</td>\n",
       "      <td id=\"T_f91ab_row5_col10\" class=\"data row5 col10\" >0.00</td>\n",
       "      <td id=\"T_f91ab_row5_col11\" class=\"data row5 col11\" >0.15</td>\n",
       "      <td id=\"T_f91ab_row5_col12\" class=\"data row5 col12\" >0.17</td>\n",
       "      <td id=\"T_f91ab_row5_col13\" class=\"data row5 col13\" >0.41</td>\n",
       "      <td id=\"T_f91ab_row5_col14\" class=\"data row5 col14\" >1.00</td>\n",
       "      <td id=\"T_f91ab_row5_col15\" class=\"data row5 col15\" >0.99</td>\n",
       "      <td id=\"T_f91ab_row5_col16\" class=\"data row5 col16\" >0.99</td>\n",
       "      <td id=\"T_f91ab_row5_col17\" class=\"data row5 col17\" >0.99</td>\n",
       "      <td id=\"T_f91ab_row5_col18\" class=\"data row5 col18\" >0.99</td>\n",
       "      <td id=\"T_f91ab_row5_col19\" class=\"data row5 col19\" >0.99</td>\n",
       "      <td id=\"T_f91ab_row5_col20\" class=\"data row5 col20\" >0.68</td>\n",
       "      <td id=\"T_f91ab_row5_col21\" class=\"data row5 col21\" >0.02</td>\n",
       "      <td id=\"T_f91ab_row5_col22\" class=\"data row5 col22\" >0.00</td>\n",
       "    </tr>\n",
       "    <tr>\n",
       "      <th id=\"T_f91ab_level0_row6\" class=\"row_heading level0 row6\" >6</th>\n",
       "      <td id=\"T_f91ab_row6_col0\" class=\"data row6 col0\" >0.00</td>\n",
       "      <td id=\"T_f91ab_row6_col1\" class=\"data row6 col1\" >0.00</td>\n",
       "      <td id=\"T_f91ab_row6_col2\" class=\"data row6 col2\" >0.00</td>\n",
       "      <td id=\"T_f91ab_row6_col3\" class=\"data row6 col3\" >0.00</td>\n",
       "      <td id=\"T_f91ab_row6_col4\" class=\"data row6 col4\" >0.00</td>\n",
       "      <td id=\"T_f91ab_row6_col5\" class=\"data row6 col5\" >0.00</td>\n",
       "      <td id=\"T_f91ab_row6_col6\" class=\"data row6 col6\" >0.00</td>\n",
       "      <td id=\"T_f91ab_row6_col7\" class=\"data row6 col7\" >0.00</td>\n",
       "      <td id=\"T_f91ab_row6_col8\" class=\"data row6 col8\" >0.00</td>\n",
       "      <td id=\"T_f91ab_row6_col9\" class=\"data row6 col9\" >0.17</td>\n",
       "      <td id=\"T_f91ab_row6_col10\" class=\"data row6 col10\" >0.54</td>\n",
       "      <td id=\"T_f91ab_row6_col11\" class=\"data row6 col11\" >0.88</td>\n",
       "      <td id=\"T_f91ab_row6_col12\" class=\"data row6 col12\" >0.88</td>\n",
       "      <td id=\"T_f91ab_row6_col13\" class=\"data row6 col13\" >0.98</td>\n",
       "      <td id=\"T_f91ab_row6_col14\" class=\"data row6 col14\" >0.99</td>\n",
       "      <td id=\"T_f91ab_row6_col15\" class=\"data row6 col15\" >0.98</td>\n",
       "      <td id=\"T_f91ab_row6_col16\" class=\"data row6 col16\" >0.98</td>\n",
       "      <td id=\"T_f91ab_row6_col17\" class=\"data row6 col17\" >0.98</td>\n",
       "      <td id=\"T_f91ab_row6_col18\" class=\"data row6 col18\" >0.98</td>\n",
       "      <td id=\"T_f91ab_row6_col19\" class=\"data row6 col19\" >0.98</td>\n",
       "      <td id=\"T_f91ab_row6_col20\" class=\"data row6 col20\" >0.98</td>\n",
       "      <td id=\"T_f91ab_row6_col21\" class=\"data row6 col21\" >0.62</td>\n",
       "      <td id=\"T_f91ab_row6_col22\" class=\"data row6 col22\" >0.05</td>\n",
       "    </tr>\n",
       "    <tr>\n",
       "      <th id=\"T_f91ab_level0_row7\" class=\"row_heading level0 row7\" >7</th>\n",
       "      <td id=\"T_f91ab_row7_col0\" class=\"data row7 col0\" >0.00</td>\n",
       "      <td id=\"T_f91ab_row7_col1\" class=\"data row7 col1\" >0.00</td>\n",
       "      <td id=\"T_f91ab_row7_col2\" class=\"data row7 col2\" >0.00</td>\n",
       "      <td id=\"T_f91ab_row7_col3\" class=\"data row7 col3\" >0.00</td>\n",
       "      <td id=\"T_f91ab_row7_col4\" class=\"data row7 col4\" >0.00</td>\n",
       "      <td id=\"T_f91ab_row7_col5\" class=\"data row7 col5\" >0.00</td>\n",
       "      <td id=\"T_f91ab_row7_col6\" class=\"data row7 col6\" >0.00</td>\n",
       "      <td id=\"T_f91ab_row7_col7\" class=\"data row7 col7\" >0.00</td>\n",
       "      <td id=\"T_f91ab_row7_col8\" class=\"data row7 col8\" >0.00</td>\n",
       "      <td id=\"T_f91ab_row7_col9\" class=\"data row7 col9\" >0.70</td>\n",
       "      <td id=\"T_f91ab_row7_col10\" class=\"data row7 col10\" >0.98</td>\n",
       "      <td id=\"T_f91ab_row7_col11\" class=\"data row7 col11\" >0.98</td>\n",
       "      <td id=\"T_f91ab_row7_col12\" class=\"data row7 col12\" >0.98</td>\n",
       "      <td id=\"T_f91ab_row7_col13\" class=\"data row7 col13\" >0.98</td>\n",
       "      <td id=\"T_f91ab_row7_col14\" class=\"data row7 col14\" >0.99</td>\n",
       "      <td id=\"T_f91ab_row7_col15\" class=\"data row7 col15\" >0.98</td>\n",
       "      <td id=\"T_f91ab_row7_col16\" class=\"data row7 col16\" >0.98</td>\n",
       "      <td id=\"T_f91ab_row7_col17\" class=\"data row7 col17\" >0.98</td>\n",
       "      <td id=\"T_f91ab_row7_col18\" class=\"data row7 col18\" >0.98</td>\n",
       "      <td id=\"T_f91ab_row7_col19\" class=\"data row7 col19\" >0.98</td>\n",
       "      <td id=\"T_f91ab_row7_col20\" class=\"data row7 col20\" >0.98</td>\n",
       "      <td id=\"T_f91ab_row7_col21\" class=\"data row7 col21\" >0.98</td>\n",
       "      <td id=\"T_f91ab_row7_col22\" class=\"data row7 col22\" >0.23</td>\n",
       "    </tr>\n",
       "    <tr>\n",
       "      <th id=\"T_f91ab_level0_row8\" class=\"row_heading level0 row8\" >8</th>\n",
       "      <td id=\"T_f91ab_row8_col0\" class=\"data row8 col0\" >0.00</td>\n",
       "      <td id=\"T_f91ab_row8_col1\" class=\"data row8 col1\" >0.00</td>\n",
       "      <td id=\"T_f91ab_row8_col2\" class=\"data row8 col2\" >0.00</td>\n",
       "      <td id=\"T_f91ab_row8_col3\" class=\"data row8 col3\" >0.00</td>\n",
       "      <td id=\"T_f91ab_row8_col4\" class=\"data row8 col4\" >0.00</td>\n",
       "      <td id=\"T_f91ab_row8_col5\" class=\"data row8 col5\" >0.00</td>\n",
       "      <td id=\"T_f91ab_row8_col6\" class=\"data row8 col6\" >0.00</td>\n",
       "      <td id=\"T_f91ab_row8_col7\" class=\"data row8 col7\" >0.00</td>\n",
       "      <td id=\"T_f91ab_row8_col8\" class=\"data row8 col8\" >0.00</td>\n",
       "      <td id=\"T_f91ab_row8_col9\" class=\"data row8 col9\" >0.43</td>\n",
       "      <td id=\"T_f91ab_row8_col10\" class=\"data row8 col10\" >0.98</td>\n",
       "      <td id=\"T_f91ab_row8_col11\" class=\"data row8 col11\" >0.98</td>\n",
       "      <td id=\"T_f91ab_row8_col12\" class=\"data row8 col12\" >0.90</td>\n",
       "      <td id=\"T_f91ab_row8_col13\" class=\"data row8 col13\" >0.52</td>\n",
       "      <td id=\"T_f91ab_row8_col14\" class=\"data row8 col14\" >0.52</td>\n",
       "      <td id=\"T_f91ab_row8_col15\" class=\"data row8 col15\" >0.52</td>\n",
       "      <td id=\"T_f91ab_row8_col16\" class=\"data row8 col16\" >0.52</td>\n",
       "      <td id=\"T_f91ab_row8_col17\" class=\"data row8 col17\" >0.74</td>\n",
       "      <td id=\"T_f91ab_row8_col18\" class=\"data row8 col18\" >0.98</td>\n",
       "      <td id=\"T_f91ab_row8_col19\" class=\"data row8 col19\" >0.98</td>\n",
       "      <td id=\"T_f91ab_row8_col20\" class=\"data row8 col20\" >0.98</td>\n",
       "      <td id=\"T_f91ab_row8_col21\" class=\"data row8 col21\" >0.98</td>\n",
       "      <td id=\"T_f91ab_row8_col22\" class=\"data row8 col22\" >0.23</td>\n",
       "    </tr>\n",
       "    <tr>\n",
       "      <th id=\"T_f91ab_level0_row9\" class=\"row_heading level0 row9\" >9</th>\n",
       "      <td id=\"T_f91ab_row9_col0\" class=\"data row9 col0\" >0.00</td>\n",
       "      <td id=\"T_f91ab_row9_col1\" class=\"data row9 col1\" >0.00</td>\n",
       "      <td id=\"T_f91ab_row9_col2\" class=\"data row9 col2\" >0.00</td>\n",
       "      <td id=\"T_f91ab_row9_col3\" class=\"data row9 col3\" >0.00</td>\n",
       "      <td id=\"T_f91ab_row9_col4\" class=\"data row9 col4\" >0.00</td>\n",
       "      <td id=\"T_f91ab_row9_col5\" class=\"data row9 col5\" >0.00</td>\n",
       "      <td id=\"T_f91ab_row9_col6\" class=\"data row9 col6\" >0.00</td>\n",
       "      <td id=\"T_f91ab_row9_col7\" class=\"data row9 col7\" >0.00</td>\n",
       "      <td id=\"T_f91ab_row9_col8\" class=\"data row9 col8\" >0.00</td>\n",
       "      <td id=\"T_f91ab_row9_col9\" class=\"data row9 col9\" >0.02</td>\n",
       "      <td id=\"T_f91ab_row9_col10\" class=\"data row9 col10\" >0.11</td>\n",
       "      <td id=\"T_f91ab_row9_col11\" class=\"data row9 col11\" >0.11</td>\n",
       "      <td id=\"T_f91ab_row9_col12\" class=\"data row9 col12\" >0.09</td>\n",
       "      <td id=\"T_f91ab_row9_col13\" class=\"data row9 col13\" >0.00</td>\n",
       "      <td id=\"T_f91ab_row9_col14\" class=\"data row9 col14\" >0.00</td>\n",
       "      <td id=\"T_f91ab_row9_col15\" class=\"data row9 col15\" >0.00</td>\n",
       "      <td id=\"T_f91ab_row9_col16\" class=\"data row9 col16\" >0.00</td>\n",
       "      <td id=\"T_f91ab_row9_col17\" class=\"data row9 col17\" >0.05</td>\n",
       "      <td id=\"T_f91ab_row9_col18\" class=\"data row9 col18\" >0.88</td>\n",
       "      <td id=\"T_f91ab_row9_col19\" class=\"data row9 col19\" >0.98</td>\n",
       "      <td id=\"T_f91ab_row9_col20\" class=\"data row9 col20\" >0.98</td>\n",
       "      <td id=\"T_f91ab_row9_col21\" class=\"data row9 col21\" >0.67</td>\n",
       "      <td id=\"T_f91ab_row9_col22\" class=\"data row9 col22\" >0.03</td>\n",
       "    </tr>\n",
       "    <tr>\n",
       "      <th id=\"T_f91ab_level0_row10\" class=\"row_heading level0 row10\" >10</th>\n",
       "      <td id=\"T_f91ab_row10_col0\" class=\"data row10 col0\" >0.00</td>\n",
       "      <td id=\"T_f91ab_row10_col1\" class=\"data row10 col1\" >0.00</td>\n",
       "      <td id=\"T_f91ab_row10_col2\" class=\"data row10 col2\" >0.00</td>\n",
       "      <td id=\"T_f91ab_row10_col3\" class=\"data row10 col3\" >0.00</td>\n",
       "      <td id=\"T_f91ab_row10_col4\" class=\"data row10 col4\" >0.00</td>\n",
       "      <td id=\"T_f91ab_row10_col5\" class=\"data row10 col5\" >0.00</td>\n",
       "      <td id=\"T_f91ab_row10_col6\" class=\"data row10 col6\" >0.00</td>\n",
       "      <td id=\"T_f91ab_row10_col7\" class=\"data row10 col7\" >0.00</td>\n",
       "      <td id=\"T_f91ab_row10_col8\" class=\"data row10 col8\" >0.00</td>\n",
       "      <td id=\"T_f91ab_row10_col9\" class=\"data row10 col9\" >0.00</td>\n",
       "      <td id=\"T_f91ab_row10_col10\" class=\"data row10 col10\" >0.00</td>\n",
       "      <td id=\"T_f91ab_row10_col11\" class=\"data row10 col11\" >0.00</td>\n",
       "      <td id=\"T_f91ab_row10_col12\" class=\"data row10 col12\" >0.00</td>\n",
       "      <td id=\"T_f91ab_row10_col13\" class=\"data row10 col13\" >0.00</td>\n",
       "      <td id=\"T_f91ab_row10_col14\" class=\"data row10 col14\" >0.00</td>\n",
       "      <td id=\"T_f91ab_row10_col15\" class=\"data row10 col15\" >0.00</td>\n",
       "      <td id=\"T_f91ab_row10_col16\" class=\"data row10 col16\" >0.00</td>\n",
       "      <td id=\"T_f91ab_row10_col17\" class=\"data row10 col17\" >0.33</td>\n",
       "      <td id=\"T_f91ab_row10_col18\" class=\"data row10 col18\" >0.95</td>\n",
       "      <td id=\"T_f91ab_row10_col19\" class=\"data row10 col19\" >0.98</td>\n",
       "      <td id=\"T_f91ab_row10_col20\" class=\"data row10 col20\" >0.98</td>\n",
       "      <td id=\"T_f91ab_row10_col21\" class=\"data row10 col21\" >0.56</td>\n",
       "      <td id=\"T_f91ab_row10_col22\" class=\"data row10 col22\" >0.00</td>\n",
       "    </tr>\n",
       "    <tr>\n",
       "      <th id=\"T_f91ab_level0_row11\" class=\"row_heading level0 row11\" >11</th>\n",
       "      <td id=\"T_f91ab_row11_col0\" class=\"data row11 col0\" >0.00</td>\n",
       "      <td id=\"T_f91ab_row11_col1\" class=\"data row11 col1\" >0.00</td>\n",
       "      <td id=\"T_f91ab_row11_col2\" class=\"data row11 col2\" >0.00</td>\n",
       "      <td id=\"T_f91ab_row11_col3\" class=\"data row11 col3\" >0.00</td>\n",
       "      <td id=\"T_f91ab_row11_col4\" class=\"data row11 col4\" >0.00</td>\n",
       "      <td id=\"T_f91ab_row11_col5\" class=\"data row11 col5\" >0.00</td>\n",
       "      <td id=\"T_f91ab_row11_col6\" class=\"data row11 col6\" >0.00</td>\n",
       "      <td id=\"T_f91ab_row11_col7\" class=\"data row11 col7\" >0.00</td>\n",
       "      <td id=\"T_f91ab_row11_col8\" class=\"data row11 col8\" >0.00</td>\n",
       "      <td id=\"T_f91ab_row11_col9\" class=\"data row11 col9\" >0.00</td>\n",
       "      <td id=\"T_f91ab_row11_col10\" class=\"data row11 col10\" >0.00</td>\n",
       "      <td id=\"T_f91ab_row11_col11\" class=\"data row11 col11\" >0.00</td>\n",
       "      <td id=\"T_f91ab_row11_col12\" class=\"data row11 col12\" >0.00</td>\n",
       "      <td id=\"T_f91ab_row11_col13\" class=\"data row11 col13\" >0.00</td>\n",
       "      <td id=\"T_f91ab_row11_col14\" class=\"data row11 col14\" >0.00</td>\n",
       "      <td id=\"T_f91ab_row11_col15\" class=\"data row11 col15\" >0.00</td>\n",
       "      <td id=\"T_f91ab_row11_col16\" class=\"data row11 col16\" >0.34</td>\n",
       "      <td id=\"T_f91ab_row11_col17\" class=\"data row11 col17\" >0.74</td>\n",
       "      <td id=\"T_f91ab_row11_col18\" class=\"data row11 col18\" >0.98</td>\n",
       "      <td id=\"T_f91ab_row11_col19\" class=\"data row11 col19\" >0.98</td>\n",
       "      <td id=\"T_f91ab_row11_col20\" class=\"data row11 col20\" >0.98</td>\n",
       "      <td id=\"T_f91ab_row11_col21\" class=\"data row11 col21\" >0.05</td>\n",
       "      <td id=\"T_f91ab_row11_col22\" class=\"data row11 col22\" >0.00</td>\n",
       "    </tr>\n",
       "    <tr>\n",
       "      <th id=\"T_f91ab_level0_row12\" class=\"row_heading level0 row12\" >12</th>\n",
       "      <td id=\"T_f91ab_row12_col0\" class=\"data row12 col0\" >0.00</td>\n",
       "      <td id=\"T_f91ab_row12_col1\" class=\"data row12 col1\" >0.00</td>\n",
       "      <td id=\"T_f91ab_row12_col2\" class=\"data row12 col2\" >0.00</td>\n",
       "      <td id=\"T_f91ab_row12_col3\" class=\"data row12 col3\" >0.00</td>\n",
       "      <td id=\"T_f91ab_row12_col4\" class=\"data row12 col4\" >0.00</td>\n",
       "      <td id=\"T_f91ab_row12_col5\" class=\"data row12 col5\" >0.00</td>\n",
       "      <td id=\"T_f91ab_row12_col6\" class=\"data row12 col6\" >0.00</td>\n",
       "      <td id=\"T_f91ab_row12_col7\" class=\"data row12 col7\" >0.00</td>\n",
       "      <td id=\"T_f91ab_row12_col8\" class=\"data row12 col8\" >0.00</td>\n",
       "      <td id=\"T_f91ab_row12_col9\" class=\"data row12 col9\" >0.00</td>\n",
       "      <td id=\"T_f91ab_row12_col10\" class=\"data row12 col10\" >0.00</td>\n",
       "      <td id=\"T_f91ab_row12_col11\" class=\"data row12 col11\" >0.00</td>\n",
       "      <td id=\"T_f91ab_row12_col12\" class=\"data row12 col12\" >0.00</td>\n",
       "      <td id=\"T_f91ab_row12_col13\" class=\"data row12 col13\" >0.00</td>\n",
       "      <td id=\"T_f91ab_row12_col14\" class=\"data row12 col14\" >0.36</td>\n",
       "      <td id=\"T_f91ab_row12_col15\" class=\"data row12 col15\" >0.83</td>\n",
       "      <td id=\"T_f91ab_row12_col16\" class=\"data row12 col16\" >0.96</td>\n",
       "      <td id=\"T_f91ab_row12_col17\" class=\"data row12 col17\" >0.98</td>\n",
       "      <td id=\"T_f91ab_row12_col18\" class=\"data row12 col18\" >0.98</td>\n",
       "      <td id=\"T_f91ab_row12_col19\" class=\"data row12 col19\" >0.98</td>\n",
       "      <td id=\"T_f91ab_row12_col20\" class=\"data row12 col20\" >0.80</td>\n",
       "      <td id=\"T_f91ab_row12_col21\" class=\"data row12 col21\" >0.04</td>\n",
       "      <td id=\"T_f91ab_row12_col22\" class=\"data row12 col22\" >0.00</td>\n",
       "    </tr>\n",
       "  </tbody>\n",
       "</table>\n"
      ],
      "text/plain": [
       "<pandas.io.formats.style.Styler>"
      ]
     },
     "execution_count": null,
     "metadata": {},
     "output_type": "execute_result"
    }
   ],
   "source": [
    "df = pd.DataFrame(im3[:13,:23])\n",
    "df.style.format(precision=2).set_properties(**{'font-size':'7pt'}).background_gradient('Greys')"
   ]
  },
  {
   "cell_type": "code",
   "execution_count": null,
   "metadata": {},
   "outputs": [
    {
     "data": {
      "text/plain": [
       "tensor(2.9727)"
      ]
     },
     "execution_count": null,
     "metadata": {},
     "output_type": "execute_result"
    }
   ],
   "source": [
    "(im3[3:6,14:17] * top_edge).sum()"
   ]
  },
  {
   "cell_type": "code",
   "execution_count": null,
   "metadata": {},
   "outputs": [
    {
     "data": {
      "text/plain": [
       "tensor(-2.9570)"
      ]
     },
     "execution_count": null,
     "metadata": {},
     "output_type": "execute_result"
    }
   ],
   "source": [
    "(im3[7:10,14:17] * top_edge).sum()"
   ]
  },
  {
   "cell_type": "code",
   "execution_count": null,
   "metadata": {},
   "outputs": [],
   "source": [
    "def apply_kernel(row, col, kernel): return (im3[row-1:row+2,col-1:col+2] * kernel).sum()"
   ]
  },
  {
   "cell_type": "code",
   "execution_count": null,
   "metadata": {},
   "outputs": [
    {
     "data": {
      "text/plain": [
       "tensor(2.9727)"
      ]
     },
     "execution_count": null,
     "metadata": {},
     "output_type": "execute_result"
    }
   ],
   "source": [
    "apply_kernel(4,15,top_edge)"
   ]
  },
  {
   "cell_type": "markdown",
   "metadata": {},
   "source": [
    "<img src=\"images/chapter9_nopadconv.svg\" id=\"nopad_conv\" caption=\"Applying a kernel across a grid\" alt=\"Applying a kernel across a grid\" width=\"400\">"
   ]
  },
  {
   "cell_type": "code",
   "execution_count": null,
   "metadata": {},
   "outputs": [
    {
     "data": {
      "text/plain": [
       "[[(0, 0), (0, 1), (0, 2), (0, 3), (0, 4)],\n",
       " [(1, 0), (1, 1), (1, 2), (1, 3), (1, 4)],\n",
       " [(2, 0), (2, 1), (2, 2), (2, 3), (2, 4)],\n",
       " [(3, 0), (3, 1), (3, 2), (3, 3), (3, 4)],\n",
       " [(4, 0), (4, 1), (4, 2), (4, 3), (4, 4)]]"
      ]
     },
     "execution_count": null,
     "metadata": {},
     "output_type": "execute_result"
    }
   ],
   "source": [
    "[[(i,j) for j in range(5)] for i in range(5)]"
   ]
  },
  {
   "cell_type": "code",
   "execution_count": null,
   "metadata": {},
   "outputs": [
    {
     "data": {
      "image/png": "[encoded data removed]",
      "text/plain": [
       "<Figure size 192x144 with 1 Axes>"
      ]
     },
     "metadata": {},
     "output_type": "display_data"
    }
   ],
   "source": [
    "rng = range(1,27)\n",
    "top_edge3 = tensor([[apply_kernel(i,j,top_edge) for j in rng] for i in rng])\n",
    "show_image(top_edge3);"
   ]
  },
  {
   "cell_type": "code",
   "execution_count": null,
   "metadata": {},
   "outputs": [],
   "source": [
    "left_edge = tensor([[-1,0,1],\n",
    "                    [-1,0,1],\n",
    "                    [-1,0,1]]).float()"
   ]
  },
  {
   "cell_type": "code",
   "execution_count": null,
   "metadata": {},
   "outputs": [
    {
     "data": {
      "image/png": "[encoded data removed]",
      "text/plain": [
       "<Figure size 192x144 with 1 Axes>"
      ]
     },
     "metadata": {},
     "output_type": "display_data"
    }
   ],
   "source": [
    "show_image(left_edge, noframe=False);"
   ]
  },
  {
   "cell_type": "code",
   "execution_count": null,
   "metadata": {},
   "outputs": [
    {
     "data": {
      "image/png": "[encoded data removed]",
      "text/plain": [
       "<Figure size 192x144 with 1 Axes>"
      ]
     },
     "metadata": {},
     "output_type": "display_data"
    }
   ],
   "source": [
    "left_edge3 = tensor([[apply_kernel(i,j,left_edge) for j in rng] for i in rng])\n",
    "show_image(left_edge3);"
   ]
  },
  {
   "cell_type": "markdown",
   "metadata": {},
   "source": [
    "<img alt=\"Result of applying a 3×3 kernel to a 4×4 image\" width=\"782\" caption=\"Result of applying a 3×3 kernel to a 4×4 image (courtesy of Vincent Dumoulin and Francesco Visin)\" id=\"three_ex_four_conv\" src=\"images/att_00028.png\">"
   ]
  },
  {
   "cell_type": "markdown",
   "metadata": {},
   "source": [
    "### Convolutions in PyTorch"
   ]
  },
  {
   "cell_type": "code",
   "execution_count": null,
   "metadata": {},
   "outputs": [],
   "source": [
    "import torch.nn.functional as F\n",
    "import torch"
   ]
  },
  {
   "cell_type": "markdown",
   "metadata": {},
   "source": [
    "What to do if you have [2 months to complete your thesis](https://github.com/Yangqing/caffe/wiki/Convolution-in-Caffe:-a-memo)? Use [im2col](https://hal.inria.fr/inria-00112631/)."
   ]
  },
  {
   "attachments": {
    "image.png": {
     "image/png": "[encoded data removed]"
    }
   },
   "cell_type": "markdown",
   "metadata": {},
   "source": [
    "![image.png](attachment:image.png)"
   ]
  },
  {
   "cell_type": "markdown",
   "metadata": {},
   "source": [
    "Here's a sample [numpy implementation](https://github.com/3outeille/CNNumpy/blob/5394f13e7ed67a808a3e39fd381f168825d65ff5/src/fast/utils.py#L360)."
   ]
  },
  {
   "cell_type": "code",
   "execution_count": null,
   "metadata": {},
   "outputs": [
    {
     "data": {
      "text/plain": [
       "torch.Size([9, 676])"
      ]
     },
     "execution_count": null,
     "metadata": {},
     "output_type": "execute_result"
    }
   ],
   "source": [
    "inp = im3[None,None,:,:].float()\n",
    "inp_unf = F.unfold(inp, (3,3))[0]\n",
    "inp_unf.shape"
   ]
  },
  {
   "cell_type": "code",
   "execution_count": null,
   "metadata": {},
   "outputs": [
    {
     "data": {
      "text/plain": [
       "torch.Size([9])"
      ]
     },
     "execution_count": null,
     "metadata": {},
     "output_type": "execute_result"
    }
   ],
   "source": [
    "w = left_edge.view(-1)\n",
    "w.shape"
   ]
  },
  {
   "cell_type": "code",
   "execution_count": null,
   "metadata": {},
   "outputs": [
    {
     "data": {
      "text/plain": [
       "torch.Size([676])"
      ]
     },
     "execution_count": null,
     "metadata": {},
     "output_type": "execute_result"
    }
   ],
   "source": [
    "out_unf = w@inp_unf\n",
    "out_unf.shape"
   ]
  },
  {
   "cell_type": "code",
   "execution_count": null,
   "metadata": {},
   "outputs": [
    {
     "data": {
      "image/png": "[encoded data removed]",
      "text/plain": [
       "<Figure size 192x144 with 1 Axes>"
      ]
     },
     "metadata": {},
     "output_type": "display_data"
    }
   ],
   "source": [
    "out = out_unf.view(26,26)\n",
    "show_image(out);"
   ]
  },
  {
   "cell_type": "code",
   "execution_count": null,
   "metadata": {},
   "outputs": [
    {
     "name": "stdout",
     "output_type": "stream",
     "text": [
      "The slowest run took 4.43 times longer than the fastest. This could mean that an intermediate result is being cached.\n",
      "6.51 ms ± 4.75 ms per loop (mean ± std. dev. of 7 runs, 1 loop each)\n"
     ]
    }
   ],
   "source": [
    "%timeit -n 1 tensor([[apply_kernel(i,j,left_edge) for j in rng] for i in rng]);"
   ]
  },
  {
   "cell_type": "code",
   "execution_count": null,
   "metadata": {},
   "outputs": [
    {
     "name": "stdout",
     "output_type": "stream",
     "text": [
      "The slowest run took 4.57 times longer than the fastest. This could mean that an intermediate result is being cached.\n",
      "49.2 μs ± 26.8 μs per loop (mean ± std. dev. of 7 runs, 100 loops each)\n"
     ]
    }
   ],
   "source": [
    "%timeit -n 100 (w@F.unfold(inp, (3,3))[0]).view(26,26);"
   ]
  },
  {
   "cell_type": "code",
   "execution_count": null,
   "metadata": {},
   "outputs": [
    {
     "name": "stdout",
     "output_type": "stream",
     "text": [
      "The slowest run took 5.31 times longer than the fastest. This could mean that an intermediate result is being cached.\n",
      "26.3 μs ± 19.2 μs per loop (mean ± std. dev. of 7 runs, 100 loops each)\n"
     ]
    }
   ],
   "source": [
    "%timeit -n 100 F.conv2d(inp, left_edge[None,None])"
   ]
  },
  {
   "cell_type": "code",
   "execution_count": null,
   "metadata": {},
   "outputs": [],
   "source": [
    "diag1_edge = tensor([[ 0,-1, 1],\n",
    "                     [-1, 1, 0],\n",
    "                     [ 1, 0, 0]]).float()"
   ]
  },
  {
   "cell_type": "code",
   "execution_count": null,
   "metadata": {},
   "outputs": [
    {
     "data": {
      "image/png": "[encoded data removed]",
      "text/plain": [
       "<Figure size 192x144 with 1 Axes>"
      ]
     },
     "metadata": {},
     "output_type": "display_data"
    }
   ],
   "source": [
    "show_image(diag1_edge, noframe=False);"
   ]
  },
  {
   "cell_type": "code",
   "execution_count": null,
   "metadata": {},
   "outputs": [],
   "source": [
    "diag2_edge = tensor([[ 1,-1, 0],\n",
    "                     [ 0, 1,-1],\n",
    "                     [ 0, 0, 1]]).float()"
   ]
  },
  {
   "cell_type": "code",
   "execution_count": null,
   "metadata": {},
   "outputs": [
    {
     "data": {
      "image/png": "[encoded data removed]",
      "text/plain": [
       "<Figure size 192x144 with 1 Axes>"
      ]
     },
     "metadata": {},
     "output_type": "display_data"
    }
   ],
   "source": [
    "show_image(diag2_edge, noframe=False);"
   ]
  },
  {
   "cell_type": "code",
   "execution_count": null,
   "metadata": {},
   "outputs": [
    {
     "data": {
      "text/plain": [
       "torch.Size([16, 1, 28, 28])"
      ]
     },
     "execution_count": null,
     "metadata": {},
     "output_type": "execute_result"
    }
   ],
   "source": [
    "xb = x_imgs[:16][:,None]\n",
    "xb.shape"
   ]
  },
  {
   "cell_type": "code",
   "execution_count": null,
   "metadata": {},
   "outputs": [
    {
     "data": {
      "text/plain": [
       "torch.Size([4, 1, 3, 3])"
      ]
     },
     "execution_count": null,
     "metadata": {},
     "output_type": "execute_result"
    }
   ],
   "source": [
    "edge_kernels = torch.stack([left_edge, top_edge, diag1_edge, diag2_edge])[:,None]\n",
    "edge_kernels.shape"
   ]
  },
  {
   "cell_type": "code",
   "execution_count": null,
   "metadata": {},
   "outputs": [
    {
     "data": {
      "text/plain": [
       "torch.Size([16, 4, 26, 26])"
      ]
     },
     "execution_count": null,
     "metadata": {},
     "output_type": "execute_result"
    }
   ],
   "source": [
    "batch_features = F.conv2d(xb, edge_kernels)\n",
    "batch_features.shape"
   ]
  },
  {
   "cell_type": "markdown",
   "metadata": {},
   "source": [
    "The output shape shows we gave 64 images in the mini-batch, 4 kernels, and 26×26 edge maps (we started with 28×28 images, but lost one pixel from each side as discussed earlier). We can see we get the same results as when we did this manually:"
   ]
  },
  {
   "cell_type": "code",
   "execution_count": null,
   "metadata": {},
   "outputs": [
    {
     "data": {
      "image/png": "[encoded data removed]",
      "text/plain": [
       "<Figure size 192x144 with 1 Axes>"
      ]
     },
     "metadata": {},
     "output_type": "display_data"
    }
   ],
   "source": [
    "img0 = xb[1,0]\n",
    "show_image(img0);"
   ]
  },
  {
   "cell_type": "code",
   "execution_count": null,
   "metadata": {},
   "outputs": [
    {
     "data": {
      "image/png": "[encoded data removed]",
      "text/plain": [
       "<Figure size 180x180 with 4 Axes>"
      ]
     },
     "metadata": {},
     "output_type": "display_data"
    }
   ],
   "source": [
    "show_images([batch_features[1,i] for i in range(4)])"
   ]
  },
  {
   "cell_type": "markdown",
   "metadata": {},
   "source": [
    "### Strides and Padding"
   ]
  },
  {
   "cell_type": "markdown",
   "metadata": {},
   "source": [
    "With appropriate padding, we can ensure that the output activation map is the same size as the original image."
   ]
  },
  {
   "cell_type": "markdown",
   "metadata": {},
   "source": [
    "<img src=\"images/chapter9_padconv.svg\" id=\"pad_conv\" caption=\"A convolution with padding\" alt=\"A convolution with padding\" width=\"600\">"
   ]
  },
  {
   "cell_type": "markdown",
   "metadata": {},
   "source": [
    "With a 5×5 input, 4×4 kernel, and 2 pixels of padding, we end up with a 6×6 activation map."
   ]
  },
  {
   "cell_type": "markdown",
   "metadata": {},
   "source": [
    "<img alt=\"A 4×4 kernel with 5×5 input and 2 pixels of padding\" width=\"783\" caption=\"A 4×4 kernel with 5×5 input and 2 pixels of padding (courtesy of Vincent Dumoulin and Francesco Visin)\" id=\"four_by_five_conv\" src=\"images/att_00029.png\">"
   ]
  },
  {
   "cell_type": "markdown",
   "metadata": {},
   "source": [
    "If we add a kernel of size `ks` by `ks` (with `ks` an odd number), the necessary padding on each side to keep the same shape is `ks//2`.\n",
    "\n",
    "We could move over two pixels after each kernel application. This is known as a *stride-2* convolution."
   ]
  },
  {
   "cell_type": "markdown",
   "metadata": {},
   "source": [
    "<img alt=\"A 3×3 kernel with 5×5 input, stride-2 convolution, and 1 pixel of padding\" width=\"774\" caption=\"A 3×3 kernel with 5×5 input, stride-2 convolution, and 1 pixel of padding (courtesy of Vincent Dumoulin and Francesco Visin)\" id=\"three_by_five_conv\" src=\"images/att_00030.png\">"
   ]
  },
  {
   "cell_type": "markdown",
   "metadata": {},
   "source": [
    "## Creating the CNN"
   ]
  },
  {
   "cell_type": "code",
   "execution_count": null,
   "metadata": {},
   "outputs": [],
   "source": [
    "n,m = x_train.shape\n",
    "c = y_train.max()+1\n",
    "nh = 50"
   ]
  },
  {
   "cell_type": "code",
   "execution_count": null,
   "metadata": {},
   "outputs": [],
   "source": [
    "model = nn.Sequential(nn.Linear(m,nh), nn.ReLU(), nn.Linear(nh,10))"
   ]
  },
  {
   "cell_type": "code",
   "execution_count": null,
   "metadata": {},
   "outputs": [],
   "source": [
    "broken_cnn = nn.Sequential(\n",
    "    nn.Conv2d(1,30, kernel_size=3, padding=1),\n",
    "    nn.ReLU(),\n",
    "    nn.Conv2d(30,10, kernel_size=3, padding=1)\n",
    ")"
   ]
  },
  {
   "cell_type": "code",
   "execution_count": null,
   "metadata": {},
   "outputs": [
    {
     "data": {
      "text/plain": [
       "torch.Size([16, 10, 28, 28])"
      ]
     },
     "execution_count": null,
     "metadata": {},
     "output_type": "execute_result"
    }
   ],
   "source": [
    "broken_cnn(xb).shape"
   ]
  },
  {
   "cell_type": "code",
   "execution_count": null,
   "metadata": {},
   "outputs": [],
   "source": [
    "#|export\n",
    "def conv(ni, nf, ks=3, stride=2, act=True):\n",
    "    res = nn.Conv2d(ni, nf, stride=stride, kernel_size=ks, padding=ks//2)\n",
    "    if act: res = nn.Sequential(res, nn.ReLU())\n",
    "    return res"
   ]
  },
  {
   "cell_type": "markdown",
   "metadata": {},
   "source": [
    "Refactoring parts of your neural networks like this makes it much less likely you'll get errors due to inconsistencies in your architectures, and makes it more obvious to the reader which parts of your layers are actually changing."
   ]
  },
  {
   "cell_type": "code",
   "execution_count": null,
   "metadata": {},
   "outputs": [],
   "source": [
    "simple_cnn = nn.Sequential(\n",
    "    conv(1 ,4),            #14x14\n",
    "    conv(4 ,8),            #7x7\n",
    "    conv(8 ,16),           #4x4\n",
    "    conv(16,16),           #2x2\n",
    "    conv(16,10, act=False), #1x1\n",
    "    nn.Flatten(),\n",
    ")"
   ]
  },
  {
   "cell_type": "code",
   "execution_count": null,
   "metadata": {},
   "outputs": [
    {
     "data": {
      "text/plain": [
       "torch.Size([16, 10])"
      ]
     },
     "execution_count": null,
     "metadata": {},
     "output_type": "execute_result"
    }
   ],
   "source": [
    "simple_cnn(xb).shape"
   ]
  },
  {
   "cell_type": "code",
   "execution_count": null,
   "metadata": {},
   "outputs": [],
   "source": [
    "x_imgs = x_train.view(-1,1,28,28)\n",
    "xv_imgs = x_valid.view(-1,1,28,28)\n",
    "train_ds,valid_ds = Dataset(x_imgs, y_train),Dataset(xv_imgs, y_valid)"
   ]
  },
  {
   "cell_type": "code",
   "execution_count": null,
   "metadata": {},
   "outputs": [],
   "source": [
    "#|export\n",
    "def_device = 'mps' if torch.backends.mps.is_available() else 'cuda' if torch.cuda.is_available() else 'cpu'\n",
    "\n",
    "def device():\n",
    "    return 'Accelerator: Apple-GPU' if torch.backends.mps.is_available() else 'Accelerator: GPU' if torch.cuda.is_available() else 'No accelerator found using cpu'\n",
    " \n",
    " \n",
    "def to_device(x, device=def_device):\n",
    "    if isinstance(x, torch.Tensor): return x.to(device)\n",
    "    if isinstance(x, Mapping): return {k:v.to(device) for k,v in x.items()}\n",
    "    return type(x)(to_device(o, device) for o in x)\n",
    "\n",
    "def collate_device(b): return to_device(default_collate(b))"
   ]
  },
  {
   "cell_type": "code",
   "execution_count": null,
   "metadata": {},
   "outputs": [],
   "source": [
    "from torch import optim\n",
    "\n",
    "bs = 256\n",
    "lr = 0.4\n",
    "train_dl,valid_dl = get_dls(train_ds, valid_ds, bs, collate_fn=collate_device)\n",
    "opt = optim.SGD(simple_cnn.parameters(), lr=lr)"
   ]
  },
  {
   "cell_type": "code",
   "execution_count": null,
   "metadata": {},
   "outputs": [
    {
     "name": "stdout",
     "output_type": "stream",
     "text": [
      "0 0.41345235085487364 0.8739999994277954\n",
      "1 0.1833201958179474 0.9474000003814698\n",
      "2 0.19180912370681763 0.9401999998092652\n",
      "3 0.2200531493663788 0.9398\n",
      "4 0.12126021075248718 0.962499999332428\n"
     ]
    }
   ],
   "source": [
    "loss,acc = fit(5, simple_cnn.to(def_device), F.cross_entropy, opt, train_dl, valid_dl)"
   ]
  },
  {
   "cell_type": "code",
   "execution_count": null,
   "metadata": {},
   "outputs": [
    {
     "name": "stdout",
     "output_type": "stream",
     "text": [
      "0 0.08381567068099975 0.9751999995231628\n",
      "1 0.08066282560825348 0.9767999994277954\n",
      "2 0.08182986400127411 0.9762000008583069\n",
      "3 0.0829398921251297 0.9763000008583069\n",
      "4 0.08355434052944183 0.9753999993324279\n"
     ]
    }
   ],
   "source": [
    "opt = optim.SGD(simple_cnn.parameters(), lr=lr/4)\n",
    "loss,acc = fit(5, simple_cnn.to(def_device), F.cross_entropy, opt, train_dl, valid_dl)"
   ]
  },
  {
   "cell_type": "markdown",
   "metadata": {},
   "source": [
    "### Understanding Convolution Arithmetic"
   ]
  },
  {
   "cell_type": "markdown",
   "metadata": {},
   "source": [
    "In an input of size `64x1x28x28` the axes are `batch,channel,height,width`. This is often represented as `NCHW` (where `N` refers to batch size). Tensorflow, on the other hand, uses `NHWC` axis order (aka \"channels-last\"). Channels-last is faster for many models, so recently it's become more common to see this as an option in PyTorch too.\n",
    "\n",
    "We have 1 input channel, 4 output channels, and a 3×3 kernel."
   ]
  },
  {
   "cell_type": "code",
   "execution_count": null,
   "metadata": {},
   "outputs": [
    {
     "data": {
      "text/plain": [
       "Conv2d(1, 4, kernel_size=(3, 3), stride=(2, 2), padding=(1, 1))"
      ]
     },
     "execution_count": null,
     "metadata": {},
     "output_type": "execute_result"
    }
   ],
   "source": [
    "simple_cnn[0][0]"
   ]
  },
  {
   "cell_type": "code",
   "execution_count": null,
   "metadata": {},
   "outputs": [
    {
     "data": {
      "text/plain": [
       "torch.Size([4, 1, 3, 3])"
      ]
     },
     "execution_count": null,
     "metadata": {},
     "output_type": "execute_result"
    }
   ],
   "source": [
    "conv1 = simple_cnn[0][0]\n",
    "conv1.weight.shape"
   ]
  },
  {
   "cell_type": "code",
   "execution_count": null,
   "metadata": {},
   "outputs": [
    {
     "data": {
      "text/plain": [
       "torch.Size([4])"
      ]
     },
     "execution_count": null,
     "metadata": {},
     "output_type": "execute_result"
    }
   ],
   "source": [
    "conv1.bias.shape"
   ]
  },
  {
   "cell_type": "markdown",
   "metadata": {},
   "source": [
    "The *receptive field* is the area of an image that is involved in the calculation of a layer. *conv-example.xlsx* shows the calculation of two stride-2 convolutional layers using an MNIST digit. Here's what we see if we click on one of the cells in the *conv2* section, which shows the output of the second convolutional layer, and click *trace precedents*."
   ]
  },
  {
   "cell_type": "markdown",
   "metadata": {},
   "source": [
    "<img alt=\"Immediate precedents of conv2 layer\" width=\"308\" caption=\"Immediate precedents of Conv2 layer\" id=\"preced1\" src=\"images/att_00068.png\">"
   ]
  },
  {
   "cell_type": "markdown",
   "metadata": {},
   "source": [
    "The blue highlighted cells are its *precedents*—that is, the cells used to calculate its value. These cells are the corresponding 3×3 area of cells from the input layer (on the left), and the cells from the filter (on the right). Click *trace precedents* again:"
   ]
  },
  {
   "cell_type": "markdown",
   "metadata": {},
   "source": [
    "<img alt=\"Secondary precedents of conv2 layer\" width=\"601\" caption=\"Secondary precedents of Conv2 layer\" id=\"preced2\" src=\"images/att_00069.png\">"
   ]
  },
  {
   "cell_type": "markdown",
   "metadata": {},
   "source": [
    "In this example, we have just two convolutional layers. We can see that a 7×7 area of cells in the input layer is used to calculate the single green cell in the Conv2 layer. This is the *receptive field*\n",
    "\n",
    "The deeper we are in the network (specifically, the more stride-2 convs we have before a layer), the larger the receptive field for an activation in that layer."
   ]
  },
  {
   "cell_type": "markdown",
   "metadata": {},
   "source": [
    "## Color Images"
   ]
  },
  {
   "cell_type": "markdown",
   "metadata": {},
   "source": [
    "A colour picture is a rank-3 tensor:"
   ]
  },
  {
   "cell_type": "code",
   "execution_count": null,
   "metadata": {},
   "outputs": [],
   "source": [
    "from torchvision.io import read_image"
   ]
  },
  {
   "cell_type": "code",
   "execution_count": null,
   "metadata": {},
   "outputs": [
    {
     "data": {
      "text/plain": [
       "torch.Size([3, 1000, 846])"
      ]
     },
     "execution_count": null,
     "metadata": {},
     "output_type": "execute_result"
    }
   ],
   "source": [
    "im = read_image('images/grizzly.jpg')\n",
    "im.shape"
   ]
  },
  {
   "cell_type": "code",
   "execution_count": null,
   "metadata": {},
   "outputs": [
    {
     "data": {
      "image/png": "[encoded data removed]",
      "text/plain": [
       "<Figure size 192x144 with 1 Axes>"
      ]
     },
     "metadata": {},
     "output_type": "display_data"
    }
   ],
   "source": [
    "show_image(im.permute(1,2,0));"
   ]
  },
  {
   "cell_type": "code",
   "execution_count": null,
   "metadata": {},
   "outputs": [
    {
     "data": {
      "image/png": "[encoded data removed]",
      "text/plain": [
       "<Figure size 192x144 with 3 Axes>"
      ]
     },
     "metadata": {},
     "output_type": "display_data"
    }
   ],
   "source": [
    "_,axs = plt.subplots(1,3)\n",
    "for bear,ax,color in zip(im,axs,('Reds','Greens','Blues')): show_image(255-bear, ax=ax, cmap=color)"
   ]
  },
  {
   "cell_type": "markdown",
   "metadata": {},
   "source": [
    "<img src=\"images/chapter9_rgbconv.svg\" id=\"rgbconv\" caption=\"Convolution over an RGB image\" alt=\"Convolution over an RGB image\" width=\"550\">"
   ]
  },
  {
   "cell_type": "markdown",
   "metadata": {},
   "source": [
    "These are then all added together, to produce a single number, for each grid location, for each output feature."
   ]
  },
  {
   "cell_type": "markdown",
   "metadata": {},
   "source": [
    "<img src=\"images/chapter9_rgb_conv_stack.svg\" id=\"rgbconv2\" caption=\"Adding the RGB filters\" alt=\"Adding the RGB filters\" width=\"500\">"
   ]
  },
  {
   "cell_type": "markdown",
   "metadata": {},
   "source": [
    "We have `ch_out` filters like this, so in the end, the result of our convolutional layer will be a batch of images with `ch_out` channels."
   ]
  },
  {
   "cell_type": "code",
   "execution_count": null,
   "metadata": {},
   "outputs": [],
   "source": [
    "from rapidai.init import clean_mem\n",
    "clean_mem()"
   ]
  },
  {
   "cell_type": "markdown",
   "metadata": {},
   "source": [
    "## Export -"
   ]
  },
  {
   "cell_type": "code",
   "execution_count": null,
   "metadata": {},
   "outputs": [],
   "source": [
    "import nbdev; nbdev.nbdev_export()"
   ]
  },
  {
   "cell_type": "code",
   "execution_count": null,
   "metadata": {},
   "outputs": [],
   "source": []
  }
 ],
 "metadata": {
  "jupytext": {
   "split_at_heading": true
  },
  "kernelspec": {
   "display_name": "python3",
   "language": "python",
   "name": "python3"
  }
 },
 "nbformat": 4,
 "nbformat_minor": 4
}
