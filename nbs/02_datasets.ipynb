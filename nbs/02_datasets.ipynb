{
 "cells": [
  {
   "cell_type": "code",
   "execution_count": null,
   "id": "da7e553f",
   "metadata": {},
   "outputs": [],
   "source": [
    "#| default_exp datasets"
   ]
  },
  {
   "cell_type": "code",
   "execution_count": null,
   "id": "3a5b2d33",
   "metadata": {},
   "outputs": [],
   "source": [
    "#|export\n",
    "from __future__ import annotations\n",
    "import math,numpy as np,matplotlib.pyplot as plt\n",
    "from operator import itemgetter\n",
    "from itertools import zip_longest\n",
    "import fastcore.all as fc\n",
    "\n",
    "from torch.utils.data import default_collate\n",
    "\n",
    "from rapidai.training import *"
   ]
  },
  {
   "cell_type": "code",
   "execution_count": null,
   "id": "579a712f",
   "metadata": {},
   "outputs": [],
   "source": [
    "import logging,pickle,gzip,os,time,shutil,torch,matplotlib as mpl\n",
    "from pathlib import Path\n",
    "\n",
    "from torch import tensor,nn,optim\n",
    "from torch.utils.data import DataLoader\n",
    "import torch.nn.functional as F\n",
    "from datasets import load_dataset,load_dataset_builder\n",
    "\n",
    "import torchvision.transforms.functional as TF\n",
    "from fastcore.test import test_close\n",
    "from rapidai.init import clean_mem"
   ]
  },
  {
   "cell_type": "code",
   "execution_count": null,
   "id": "45dc4dc7",
   "metadata": {},
   "outputs": [],
   "source": [
    "torch.set_printoptions(precision=2, linewidth=140, sci_mode=False)\n",
    "torch.manual_seed(1)\n",
    "mpl.rcParams['image.cmap'] = 'gray'"
   ]
  },
  {
   "cell_type": "code",
   "execution_count": null,
   "id": "84a947f2",
   "metadata": {},
   "outputs": [],
   "source": [
    "logging.disable(logging.WARNING)"
   ]
  },
  {
   "cell_type": "markdown",
   "id": "d47ef9d3",
   "metadata": {},
   "source": [
    "## Hugging Face Datasets"
   ]
  },
  {
   "cell_type": "code",
   "execution_count": null,
   "id": "95ce04f5",
   "metadata": {},
   "outputs": [
    {
     "name": "stdout",
     "output_type": "stream",
     "text": [
      "\n"
     ]
    }
   ],
   "source": [
    "name = \"fashion_mnist\"\n",
    "ds_builder = load_dataset_builder(name)\n",
    "print(ds_builder.info.description)"
   ]
  },
  {
   "cell_type": "code",
   "execution_count": null,
   "id": "7b8e6589",
   "metadata": {},
   "outputs": [
    {
     "data": {
      "text/plain": [
       "{'image': Image(mode=None, decode=True, id=None),\n",
       " 'label': ClassLabel(names=['T - shirt / top', 'Trouser', 'Pullover', 'Dress', 'Coat', 'Sandal', 'Shirt', 'Sneaker', 'Bag', 'Ankle boot'], id=None)}"
      ]
     },
     "execution_count": null,
     "metadata": {},
     "output_type": "execute_result"
    }
   ],
   "source": [
    "ds_builder.info.features"
   ]
  },
  {
   "cell_type": "code",
   "execution_count": null,
   "id": "1671912b",
   "metadata": {},
   "outputs": [
    {
     "data": {
      "text/plain": [
       "{'train': SplitInfo(name='train', num_bytes=31304707, num_examples=60000, shard_lengths=None, dataset_name='fashion_mnist'),\n",
       " 'test': SplitInfo(name='test', num_bytes=5235160, num_examples=10000, shard_lengths=None, dataset_name='fashion_mnist')}"
      ]
     },
     "execution_count": null,
     "metadata": {},
     "output_type": "execute_result"
    }
   ],
   "source": [
    "ds_builder.info.splits"
   ]
  },
  {
   "cell_type": "code",
   "execution_count": null,
   "id": "eacdc83c",
   "metadata": {},
   "outputs": [
    {
     "data": {
      "text/plain": [
       "DatasetDict({\n",
       "    train: Dataset({\n",
       "        features: ['image', 'label'],\n",
       "        num_rows: 60000\n",
       "    })\n",
       "    test: Dataset({\n",
       "        features: ['image', 'label'],\n",
       "        num_rows: 10000\n",
       "    })\n",
       "})"
      ]
     },
     "execution_count": null,
     "metadata": {},
     "output_type": "execute_result"
    }
   ],
   "source": [
    "dsd = load_dataset(name)\n",
    "dsd"
   ]
  },
  {
   "cell_type": "code",
   "execution_count": null,
   "id": "6ef15b80",
   "metadata": {},
   "outputs": [
    {
     "data": {
      "text/plain": [
       "{'image': <PIL.PngImagePlugin.PngImageFile image mode=L size=28x28>,\n",
       " 'label': 9}"
      ]
     },
     "execution_count": null,
     "metadata": {},
     "output_type": "execute_result"
    }
   ],
   "source": [
    "train,test = dsd['train'],dsd['test']\n",
    "train[0]"
   ]
  },
  {
   "cell_type": "code",
   "execution_count": null,
   "id": "bebfe2a9",
   "metadata": {},
   "outputs": [],
   "source": [
    "x,y = ds_builder.info.features"
   ]
  },
  {
   "cell_type": "code",
   "execution_count": null,
   "id": "2ef65b83",
   "metadata": {},
   "outputs": [
    {
     "data": {
      "text/plain": [
       "('image', 'label')"
      ]
     },
     "execution_count": null,
     "metadata": {},
     "output_type": "execute_result"
    }
   ],
   "source": [
    "x,y"
   ]
  },
  {
   "cell_type": "code",
   "execution_count": null,
   "id": "4c7b6fcc",
   "metadata": {},
   "outputs": [
    {
     "data": {
      "image/jpeg": "[encoded data removed]",
      "image/png": "[encoded data removed]",
      "text/plain": [
       "<PIL.PngImagePlugin.PngImageFile image mode=L size=28x28>"
      ]
     },
     "execution_count": null,
     "metadata": {},
     "output_type": "execute_result"
    }
   ],
   "source": [
    "x,y = 'image','label'\n",
    "img = train[0][x]\n",
    "img"
   ]
  },
  {
   "cell_type": "code",
   "execution_count": null,
   "id": "3db1778b",
   "metadata": {},
   "outputs": [
    {
     "data": {
      "text/plain": [
       "[9, 0, 0, 3, 0]"
      ]
     },
     "execution_count": null,
     "metadata": {},
     "output_type": "execute_result"
    }
   ],
   "source": [
    "xb = train[:5][x]\n",
    "yb = train[:5][y]\n",
    "yb"
   ]
  },
  {
   "cell_type": "code",
   "execution_count": null,
   "id": "e54b5bcc",
   "metadata": {},
   "outputs": [
    {
     "data": {
      "text/plain": [
       "ClassLabel(names=['T - shirt / top', 'Trouser', 'Pullover', 'Dress', 'Coat', 'Sandal', 'Shirt', 'Sneaker', 'Bag', 'Ankle boot'], id=None)"
      ]
     },
     "execution_count": null,
     "metadata": {},
     "output_type": "execute_result"
    }
   ],
   "source": [
    "featy = train.features[y]\n",
    "featy"
   ]
  },
  {
   "cell_type": "code",
   "execution_count": null,
   "id": "fcef590a",
   "metadata": {},
   "outputs": [
    {
     "data": {
      "text/plain": [
       "['Ankle boot',\n",
       " 'T - shirt / top',\n",
       " 'T - shirt / top',\n",
       " 'Dress',\n",
       " 'T - shirt / top']"
      ]
     },
     "execution_count": null,
     "metadata": {},
     "output_type": "execute_result"
    }
   ],
   "source": [
    "featy.int2str(yb)"
   ]
  },
  {
   "cell_type": "code",
   "execution_count": null,
   "id": "953cac0f",
   "metadata": {},
   "outputs": [
    {
     "data": {
      "text/plain": [
       "[9, 0, 0, 3, 0]"
      ]
     },
     "execution_count": null,
     "metadata": {},
     "output_type": "execute_result"
    }
   ],
   "source": [
    "train['label'][:5]"
   ]
  },
  {
   "cell_type": "code",
   "execution_count": null,
   "id": "6b8790b8",
   "metadata": {},
   "outputs": [],
   "source": [
    "def collate_fn(b):\n",
    "    return {x:torch.stack([TF.to_tensor(o[x]) for o in b]),\n",
    "            y:tensor([o[y] for o in b])}"
   ]
  },
  {
   "cell_type": "code",
   "execution_count": null,
   "id": "36b7be22",
   "metadata": {},
   "outputs": [
    {
     "data": {
      "text/plain": [
       "(torch.Size([16, 1, 28, 28]),\n",
       " tensor([9, 0, 0, 3, 0, 2, 7, 2, 5, 5, 0, 9, 5, 5, 7, 9]))"
      ]
     },
     "execution_count": null,
     "metadata": {},
     "output_type": "execute_result"
    }
   ],
   "source": [
    "dl = DataLoader(train, collate_fn=collate_fn, batch_size=16)\n",
    "b = next(iter(dl))\n",
    "b[x].shape,b[y]"
   ]
  },
  {
   "cell_type": "code",
   "execution_count": null,
   "id": "45a6c6b4",
   "metadata": {},
   "outputs": [],
   "source": [
    "def transforms(b):\n",
    "    b[x] = [TF.to_tensor(o) for o in b[x]]\n",
    "    return b"
   ]
  },
  {
   "cell_type": "code",
   "execution_count": null,
   "id": "7ce1985b",
   "metadata": {},
   "outputs": [
    {
     "data": {
      "text/plain": [
       "(torch.Size([16, 1, 28, 28]),\n",
       " tensor([9, 0, 0, 3, 0, 2, 7, 2, 5, 5, 0, 9, 5, 5, 7, 9]))"
      ]
     },
     "execution_count": null,
     "metadata": {},
     "output_type": "execute_result"
    }
   ],
   "source": [
    "tds = train.with_transform(transforms)\n",
    "dl = DataLoader(tds, batch_size=16)\n",
    "b = next(iter(dl))\n",
    "b[x].shape,b[y]"
   ]
  },
  {
   "cell_type": "code",
   "execution_count": null,
   "id": "1ad7ecde",
   "metadata": {},
   "outputs": [],
   "source": [
    "def _transformi(b): b[x] = [torch.flatten(TF.to_tensor(o)) for o in b[x]]"
   ]
  },
  {
   "cell_type": "code",
   "execution_count": null,
   "id": "54cfb4a8",
   "metadata": {},
   "outputs": [],
   "source": [
    "#|export\n",
    "def inplace(f):\n",
    "    def _f(b):\n",
    "        f(b)\n",
    "        return b\n",
    "    return _f"
   ]
  },
  {
   "cell_type": "code",
   "execution_count": null,
   "id": "8ffe8f17",
   "metadata": {},
   "outputs": [],
   "source": [
    "transformi = inplace(_transformi)"
   ]
  },
  {
   "cell_type": "code",
   "execution_count": null,
   "id": "f8b1248f",
   "metadata": {},
   "outputs": [
    {
     "data": {
      "text/plain": [
       "(torch.Size([784]), 9)"
      ]
     },
     "execution_count": null,
     "metadata": {},
     "output_type": "execute_result"
    }
   ],
   "source": [
    "r = train.with_transform(transformi)[0]\n",
    "r[x].shape,r[y]"
   ]
  },
  {
   "cell_type": "code",
   "execution_count": null,
   "id": "d6e8c480",
   "metadata": {},
   "outputs": [],
   "source": [
    "@inplace\n",
    "def transformi(b): b[x] = [torch.flatten(TF.to_tensor(o)) for o in b[x]]"
   ]
  },
  {
   "cell_type": "code",
   "execution_count": null,
   "id": "07367168",
   "metadata": {},
   "outputs": [
    {
     "data": {
      "text/plain": [
       "(torch.Size([784]), 9)"
      ]
     },
     "execution_count": null,
     "metadata": {},
     "output_type": "execute_result"
    }
   ],
   "source": [
    "tdsf = train.with_transform(transformi)\n",
    "r = tdsf[0]\n",
    "r[x].shape,r[y]"
   ]
  },
  {
   "cell_type": "code",
   "execution_count": null,
   "id": "42cd1354",
   "metadata": {},
   "outputs": [
    {
     "data": {
      "text/plain": [
       "(1, 3)"
      ]
     },
     "execution_count": null,
     "metadata": {},
     "output_type": "execute_result"
    }
   ],
   "source": [
    "d = dict(a=1,b=2,c=3)\n",
    "ig = itemgetter('a','c')\n",
    "ig(d)"
   ]
  },
  {
   "cell_type": "code",
   "execution_count": null,
   "id": "3c2e0bd6",
   "metadata": {},
   "outputs": [],
   "source": [
    "class D:\n",
    "    def __getitem__(self, k): return 1 if k=='a' else 2 if k=='b' else 3"
   ]
  },
  {
   "cell_type": "code",
   "execution_count": null,
   "id": "105f8d6f",
   "metadata": {},
   "outputs": [
    {
     "data": {
      "text/plain": [
       "(1, 3)"
      ]
     },
     "execution_count": null,
     "metadata": {},
     "output_type": "execute_result"
    }
   ],
   "source": [
    "d = D()\n",
    "ig(d)"
   ]
  },
  {
   "cell_type": "code",
   "execution_count": null,
   "id": "9dd178af",
   "metadata": {},
   "outputs": [
    {
     "data": {
      "text/plain": [
       "['image', 'label']"
      ]
     },
     "execution_count": null,
     "metadata": {},
     "output_type": "execute_result"
    }
   ],
   "source": [
    "list(tdsf.features)"
   ]
  },
  {
   "cell_type": "code",
   "execution_count": null,
   "id": "838cbf23",
   "metadata": {},
   "outputs": [
    {
     "data": {
      "text/plain": [
       "{'a': [tensor([1, 3])], 'b': [tensor([2, 4])]}"
      ]
     },
     "execution_count": null,
     "metadata": {},
     "output_type": "execute_result"
    }
   ],
   "source": [
    "batch = dict(a=[1],b=[2]), dict(a=[3],b=[4])\n",
    "default_collate(batch)"
   ]
  },
  {
   "cell_type": "code",
   "execution_count": null,
   "id": "150eb14f",
   "metadata": {},
   "outputs": [],
   "source": [
    "#|export\n",
    "def collate_dict(ds):\n",
    "    get = itemgetter(*ds.features)\n",
    "    def _f(b): return get(default_collate(b))\n",
    "    return _f"
   ]
  },
  {
   "cell_type": "code",
   "execution_count": null,
   "id": "383173e9",
   "metadata": {},
   "outputs": [
    {
     "data": {
      "text/plain": [
       "(torch.Size([4, 784]), tensor([9, 0, 0, 3]))"
      ]
     },
     "execution_count": null,
     "metadata": {},
     "output_type": "execute_result"
    }
   ],
   "source": [
    "dlf = DataLoader(tdsf, batch_size=4, collate_fn=collate_dict(tdsf))\n",
    "xb,yb = next(iter(dlf))\n",
    "xb.shape,yb"
   ]
  },
  {
   "cell_type": "markdown",
   "id": "8f0277c6",
   "metadata": {},
   "source": [
    "## Plotting images"
   ]
  },
  {
   "cell_type": "code",
   "execution_count": null,
   "id": "e9710424",
   "metadata": {},
   "outputs": [
    {
     "data": {
      "image/png": "[encoded data removed]",
      "text/plain": [
       "<Figure size 640x480 with 1 Axes>"
      ]
     },
     "metadata": {},
     "output_type": "display_data"
    }
   ],
   "source": [
    "b = next(iter(dl))\n",
    "xb = b['image']\n",
    "img = xb[0]\n",
    "plt.imshow(img[0]);"
   ]
  },
  {
   "cell_type": "code",
   "execution_count": null,
   "id": "ef84d1b0",
   "metadata": {},
   "outputs": [],
   "source": [
    "#|export\n",
    "@fc.delegates(plt.Axes.imshow)\n",
    "def show_image(im, ax=None, figsize=None, title=None, noframe=True, **kwargs):\n",
    "    \"Show a PIL or PyTorch image on `ax`.\"\n",
    "    if fc.hasattrs(im, ('cpu','permute','detach')):\n",
    "        im = im.detach().cpu()\n",
    "        if len(im.shape)==3 and im.shape[0]<5: im=im.permute(1,2,0)\n",
    "    elif not isinstance(im,np.ndarray): im=np.array(im)\n",
    "    if im.shape[-1]==1: im=im[...,0]\n",
    "    if ax is None: _,ax = plt.subplots(figsize=figsize)\n",
    "    ax.imshow(im, **kwargs)\n",
    "    if title is not None: ax.set_title(title)\n",
    "    ax.set_xticks([]) \n",
    "    ax.set_yticks([]) \n",
    "    if noframe: ax.axis('off')\n",
    "    return ax"
   ]
  },
  {
   "cell_type": "code",
   "execution_count": null,
   "id": "77221d36",
   "metadata": {},
   "outputs": [
    {
     "name": "stdout",
     "output_type": "stream",
     "text": [
      "Help on function show_image in module __main__:\n",
      "\n",
      "show_image(im, ax=None, figsize=None, title=None, noframe=True, *, cmap=None, norm=None, aspect=None, interpolation=None, alpha=None, vmin=None, vmax=None, origin=None, extent=None, interpolation_stage=None, filternorm=True, filterrad=4.0, resample=None, url=None, data=None)\n",
      "    Show a PIL or PyTorch image on `ax`.\n",
      "\n"
     ]
    }
   ],
   "source": [
    "help(show_image)"
   ]
  },
  {
   "cell_type": "code",
   "execution_count": null,
   "id": "2209898e",
   "metadata": {},
   "outputs": [
    {
     "data": {
      "image/png": "[encoded data removed]",
      "text/plain": [
       "<Figure size 200x200 with 1 Axes>"
      ]
     },
     "metadata": {},
     "output_type": "display_data"
    }
   ],
   "source": [
    "show_image(img, figsize=(2,2));"
   ]
  },
  {
   "cell_type": "code",
   "execution_count": null,
   "id": "27586e5e",
   "metadata": {},
   "outputs": [
    {
     "data": {
      "image/png": "[encoded data removed]",
      "text/plain": [
       "<Figure size 640x480 with 2 Axes>"
      ]
     },
     "metadata": {},
     "output_type": "display_data"
    }
   ],
   "source": [
    "fig,axs = plt.subplots(1,2)\n",
    "show_image(img, axs[0])\n",
    "show_image(xb[1], axs[1]);"
   ]
  },
  {
   "cell_type": "code",
   "execution_count": null,
   "id": "366112a5",
   "metadata": {},
   "outputs": [],
   "source": [
    "#|export\n",
    "@fc.delegates(plt.subplots, keep=True)\n",
    "def subplots(\n",
    "    nrows:int=1, # Number of rows in returned axes grid\n",
    "    ncols:int=1, # Number of columns in returned axes grid\n",
    "    figsize:tuple=None, # Width, height in inches of the returned figure\n",
    "    imsize:int=3, # Size (in inches) of images that will be displayed in the returned figure\n",
    "    suptitle:str=None, # Title to be set to returned figure\n",
    "    **kwargs\n",
    "): # fig and axs\n",
    "    \"A figure and set of subplots to display images of `imsize` inches\"\n",
    "    if figsize is None: figsize=(ncols*imsize, nrows*imsize)\n",
    "    fig,ax = plt.subplots(nrows, ncols, figsize=figsize, **kwargs)\n",
    "    if suptitle is not None: fig.suptitle(suptitle)\n",
    "    if nrows*ncols==1: ax = np.array([ax])\n",
    "    return fig,ax"
   ]
  },
  {
   "cell_type": "code",
   "execution_count": null,
   "id": "8018591c",
   "metadata": {},
   "outputs": [],
   "source": [
    "from nbdev.showdoc import show_doc"
   ]
  },
  {
   "cell_type": "code",
   "execution_count": null,
   "id": "f53aae66",
   "metadata": {},
   "outputs": [
    {
     "data": {
      "text/markdown": [
       "---\n",
       "\n",
       "### subplots\n",
       "\n",
       ">      subplots (nrows:int=1, ncols:int=1, figsize:tuple=None, imsize:int=3,\n",
       ">                suptitle:str=None,\n",
       ">                sharex:\"bool|Literal['none','all','row','col']\"=False,\n",
       ">                sharey:\"bool|Literal['none','all','row','col']\"=False,\n",
       ">                squeeze:bool=True, width_ratios:Sequence[float]|None=None,\n",
       ">                height_ratios:Sequence[float]|None=None,\n",
       ">                subplot_kw:dict[str,Any]|None=None,\n",
       ">                gridspec_kw:dict[str,Any]|None=None, **kwargs)\n",
       "\n",
       "*A figure and set of subplots to display images of `imsize` inches*\n",
       "\n",
       "|    | **Type** | **Default** | **Details** |\n",
       "| -- | -------- | ----------- | ----------- |\n",
       "| nrows | int | 1 | Number of rows in returned axes grid |\n",
       "| ncols | int | 1 | Number of columns in returned axes grid |\n",
       "| figsize | tuple | None | Width, height in inches of the returned figure |\n",
       "| imsize | int | 3 | Size (in inches) of images that will be displayed in the returned figure |\n",
       "| suptitle | str | None | Title to be set to returned figure |\n",
       "| sharex | bool \\| Literal['none', 'all', 'row', 'col'] | False |  |\n",
       "| sharey | bool \\| Literal['none', 'all', 'row', 'col'] | False |  |\n",
       "| squeeze | bool | True |  |\n",
       "| width_ratios | Sequence[float] \\| None | None |  |\n",
       "| height_ratios | Sequence[float] \\| None | None |  |\n",
       "| subplot_kw | dict[str, Any] \\| None | None |  |\n",
       "| gridspec_kw | dict[str, Any] \\| None | None |  |\n",
       "| kwargs |  |  |  |"
      ],
      "text/plain": [
       "---\n",
       "\n",
       "### subplots\n",
       "\n",
       ">      subplots (nrows:int=1, ncols:int=1, figsize:tuple=None, imsize:int=3,\n",
       ">                suptitle:str=None,\n",
       ">                sharex:\"bool|Literal['none','all','row','col']\"=False,\n",
       ">                sharey:\"bool|Literal['none','all','row','col']\"=False,\n",
       ">                squeeze:bool=True, width_ratios:Sequence[float]|None=None,\n",
       ">                height_ratios:Sequence[float]|None=None,\n",
       ">                subplot_kw:dict[str,Any]|None=None,\n",
       ">                gridspec_kw:dict[str,Any]|None=None, **kwargs)\n",
       "\n",
       "*A figure and set of subplots to display images of `imsize` inches*\n",
       "\n",
       "|    | **Type** | **Default** | **Details** |\n",
       "| -- | -------- | ----------- | ----------- |\n",
       "| nrows | int | 1 | Number of rows in returned axes grid |\n",
       "| ncols | int | 1 | Number of columns in returned axes grid |\n",
       "| figsize | tuple | None | Width, height in inches of the returned figure |\n",
       "| imsize | int | 3 | Size (in inches) of images that will be displayed in the returned figure |\n",
       "| suptitle | str | None | Title to be set to returned figure |\n",
       "| sharex | bool \\| Literal['none', 'all', 'row', 'col'] | False |  |\n",
       "| sharey | bool \\| Literal['none', 'all', 'row', 'col'] | False |  |\n",
       "| squeeze | bool | True |  |\n",
       "| width_ratios | Sequence[float] \\| None | None |  |\n",
       "| height_ratios | Sequence[float] \\| None | None |  |\n",
       "| subplot_kw | dict[str, Any] \\| None | None |  |\n",
       "| gridspec_kw | dict[str, Any] \\| None | None |  |\n",
       "| kwargs |  |  |  |"
      ]
     },
     "execution_count": null,
     "metadata": {},
     "output_type": "execute_result"
    }
   ],
   "source": [
    "show_doc(subplots)"
   ]
  },
  {
   "cell_type": "code",
   "execution_count": null,
   "id": "20546a79",
   "metadata": {},
   "outputs": [
    {
     "data": {
      "image/png": "[encoded data removed]",
      "text/plain": [
       "<Figure size 300x300 with 9 Axes>"
      ]
     },
     "metadata": {},
     "output_type": "display_data"
    }
   ],
   "source": [
    "fig,axs = subplots(3,3, imsize=1)\n",
    "imgs = xb[:8]\n",
    "for ax,img in zip(axs.flat,imgs): show_image(img, ax)"
   ]
  },
  {
   "cell_type": "code",
   "execution_count": null,
   "id": "aeaf024b",
   "metadata": {},
   "outputs": [],
   "source": [
    "#|export\n",
    "@fc.delegates(subplots)\n",
    "def get_grid(\n",
    "    n:int, # Number of axes\n",
    "    nrows:int=None, # Number of rows, defaulting to `int(math.sqrt(n))`\n",
    "    ncols:int=None, # Number of columns, defaulting to `ceil(n/rows)`\n",
    "    title:str=None, # If passed, title set to the figure\n",
    "    weight:str='bold', # Title font weight\n",
    "    size:int=14, # Title font size\n",
    "    **kwargs,\n",
    "): # fig and axs\n",
    "    \"Return a grid of `n` axes, `rows` by `cols`\"\n",
    "    if nrows: ncols = ncols or int(np.floor(n/nrows))\n",
    "    elif ncols: nrows = nrows or int(np.ceil(n/ncols))\n",
    "    else:\n",
    "        nrows = int(math.sqrt(n))\n",
    "        ncols = int(np.floor(n/nrows))\n",
    "    fig,axs = subplots(nrows, ncols, **kwargs)\n",
    "    for i in range(n, nrows*ncols): axs.flat[i].set_axis_off()\n",
    "    if title is not None: fig.suptitle(title, weight=weight, size=size)\n",
    "    return fig,axs"
   ]
  },
  {
   "cell_type": "code",
   "execution_count": null,
   "id": "c422a7de",
   "metadata": {},
   "outputs": [
    {
     "data": {
      "image/png": "[encoded data removed]",
      "text/plain": [
       "<Figure size 200x300 with 6 Axes>"
      ]
     },
     "metadata": {},
     "output_type": "display_data"
    }
   ],
   "source": [
    "fig,axs = get_grid(8, nrows=3, imsize=1)\n",
    "for ax,img in zip(axs.flat,imgs): show_image(img, ax)"
   ]
  },
  {
   "cell_type": "code",
   "execution_count": null,
   "id": "02f44439",
   "metadata": {},
   "outputs": [],
   "source": [
    "#|export\n",
    "@fc.delegates(subplots)\n",
    "def show_images(ims:list, # Images to show\n",
    "                nrows:int|None=None, # Number of rows in grid\n",
    "                ncols:int|None=None, # Number of columns in grid (auto-calculated if None)\n",
    "                titles:list|None=None, # Optional list of titles for each image\n",
    "                **kwargs):\n",
    "    \"Show all images `ims` as subplots with `rows` using `titles`\"\n",
    "    axs = get_grid(len(ims), nrows, ncols, **kwargs)[1].flat\n",
    "    for im,t,ax in zip_longest(ims, titles or [], axs): show_image(im, ax=ax, title=t)"
   ]
  },
  {
   "cell_type": "code",
   "execution_count": null,
   "id": "91e0e2ac",
   "metadata": {},
   "outputs": [],
   "source": [
    "yb = b['label']\n",
    "lbls = yb[:8]"
   ]
  },
  {
   "cell_type": "code",
   "execution_count": null,
   "id": "a7aacc2a",
   "metadata": {},
   "outputs": [
    {
     "data": {
      "text/plain": [
       "'Boot Top Top Dress Top Pullover Sneaker Pullover'"
      ]
     },
     "execution_count": null,
     "metadata": {},
     "output_type": "execute_result"
    }
   ],
   "source": [
    "names = \"Top Trouser Pullover Dress Coat Sandal Shirt Sneaker Bag Boot\".split()\n",
    "titles = itemgetter(*lbls)(names)\n",
    "' '.join(titles)"
   ]
  },
  {
   "cell_type": "code",
   "execution_count": null,
   "id": "33b9ac1b",
   "metadata": {},
   "outputs": [
    {
     "data": {
      "image/png": "[encoded data removed]",
      "text/plain": [
       "<Figure size 680x340 with 8 Axes>"
      ]
     },
     "metadata": {},
     "output_type": "display_data"
    }
   ],
   "source": [
    "show_images(imgs, imsize=1.7, titles=titles)"
   ]
  },
  {
   "cell_type": "code",
   "execution_count": null,
   "id": "56422103",
   "metadata": {},
   "outputs": [],
   "source": [
    "#|export\n",
    "class DataLoaders:\n",
    "    def __init__(self, *dls): self.train,self.valid = dls[:2]\n",
    "\n",
    "    @classmethod\n",
    "    def from_dd(cls, dd, batch_size, as_tuple=True, **kwargs):\n",
    "        f = collate_dict(dd['train'])\n",
    "        return cls(*get_dls(*dd.values(), bs=batch_size, collate_fn=f, **kwargs))"
   ]
  },
  {
   "cell_type": "code",
   "execution_count": null,
   "id": "dac3b07f",
   "metadata": {},
   "outputs": [],
   "source": [
    "clean_mem()"
   ]
  },
  {
   "cell_type": "markdown",
   "id": "ff61b773",
   "metadata": {},
   "source": [
    "## Export -"
   ]
  },
  {
   "cell_type": "code",
   "execution_count": null,
   "id": "686a88de",
   "metadata": {},
   "outputs": [],
   "source": [
    "import nbdev; nbdev.nbdev_export()"
   ]
  },
  {
   "cell_type": "code",
   "execution_count": null,
   "id": "59c28edf",
   "metadata": {},
   "outputs": [],
   "source": []
  }
 ],
 "metadata": {
  "kernelspec": {
   "display_name": "python3",
   "language": "python",
   "name": "python3"
  }
 },
 "nbformat": 4,
 "nbformat_minor": 5
}
